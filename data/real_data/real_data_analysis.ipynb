{
 "cells": [
  {
   "cell_type": "code",
   "execution_count": 2,
   "id": "initial_id",
   "metadata": {
    "collapsed": true,
    "ExecuteTime": {
     "end_time": "2023-11-30T07:13:08.160179256Z",
     "start_time": "2023-11-30T07:13:07.997502420Z"
    }
   },
   "outputs": [],
   "source": [
    "import pandas as pd"
   ]
  },
  {
   "cell_type": "markdown",
   "source": [
    "## Load CPI data"
   ],
   "metadata": {
    "collapsed": false
   },
   "id": "fa91deea658c5a76"
  },
  {
   "cell_type": "code",
   "execution_count": 2,
   "outputs": [
    {
     "name": "stderr",
     "output_type": "stream",
     "text": [
      "/home/yao/miniconda3/envs/vis/lib/python3.10/site-packages/openpyxl/styles/stylesheet.py:226: UserWarning: Workbook contains no default style, apply openpyxl's default\n",
      "  warn(\"Workbook contains no default style, apply openpyxl's default\")\n"
     ]
    }
   ],
   "source": [
    "# https://data.bls.gov/pdq/SurveyOutputServlet\n",
    "\n",
    "cpi = pd.read_excel('SeriesReport-20231130004030_af192c.xlsx')"
   ],
   "metadata": {
    "collapsed": false,
    "ExecuteTime": {
     "end_time": "2023-11-30T06:38:20.417838193Z",
     "start_time": "2023-11-30T06:38:20.326488333Z"
    }
   },
   "id": "b79ba520d596fd3f"
  },
  {
   "cell_type": "code",
   "execution_count": 3,
   "outputs": [
    {
     "data": {
      "text/plain": "   Consumer Price Index for All Urban Consumers (CPI-U)  \\\n0                                 Original Data Value     \n1                                                 NaN     \n2                                          Series Id:     \n3                             Not Seasonally Adjusted     \n4                                       Series Title:     \n5                                               Area:     \n6                                               Item:     \n7                                        Base Period:     \n8                                              Years:     \n9                                                 NaN     \n10                                               Year     \n11                                               2010     \n12                                               2011     \n13                                               2012     \n14                                               2013     \n15                                               2014     \n16                                               2015     \n17                                               2016     \n18                                               2017     \n19                                               2018     \n20                                               2019     \n21                                               2020     \n22                                               2021     \n23                                               2022     \n\n                                           Unnamed: 1 Unnamed: 2 Unnamed: 3  \\\n0                                                 NaN        NaN        NaN   \n1                                                 NaN        NaN        NaN   \n2                                         CUUR0000SA0        NaN        NaN   \n3                                                 NaN        NaN        NaN   \n4   All items in U.S. city average, all urban cons...        NaN        NaN   \n5                                   U.S. city average        NaN        NaN   \n6                                           All items        NaN        NaN   \n7                                         1982-84=100        NaN        NaN   \n8                                        2010 to 2022        NaN        NaN   \n9                                                 NaN        NaN        NaN   \n10                                                Jan        Feb        Mar   \n11                                            216.687    216.741    217.631   \n12                                            220.223    221.309    223.467   \n13                                            226.665    227.663    229.392   \n14                                             230.28    232.166    232.773   \n15                                            233.916    234.781    236.293   \n16                                            233.707    234.722    236.119   \n17                                            236.916    237.111    238.132   \n18                                            242.839    243.603    243.801   \n19                                            247.867    248.991    249.554   \n20                                            251.712    252.776    254.202   \n21                                            257.971    258.678    258.115   \n22                                            261.582    263.014    264.877   \n23                                            281.148    283.716    287.504   \n\n   Unnamed: 4 Unnamed: 5 Unnamed: 6 Unnamed: 7 Unnamed: 8 Unnamed: 9  \\\n0         NaN        NaN        NaN        NaN        NaN        NaN   \n1         NaN        NaN        NaN        NaN        NaN        NaN   \n2         NaN        NaN        NaN        NaN        NaN        NaN   \n3         NaN        NaN        NaN        NaN        NaN        NaN   \n4         NaN        NaN        NaN        NaN        NaN        NaN   \n5         NaN        NaN        NaN        NaN        NaN        NaN   \n6         NaN        NaN        NaN        NaN        NaN        NaN   \n7         NaN        NaN        NaN        NaN        NaN        NaN   \n8         NaN        NaN        NaN        NaN        NaN        NaN   \n9         NaN        NaN        NaN        NaN        NaN        NaN   \n10        Apr        May        Jun        Jul        Aug        Sep   \n11    218.009    218.178    217.965    218.011    218.312    218.439   \n12    224.906    225.964    225.722    225.922    226.545    226.889   \n13    230.085    229.815    229.478    229.104    230.379    231.407   \n14    232.531    232.945    233.504    233.596    233.877    234.149   \n15    237.072      237.9    238.343     238.25    237.852    238.031   \n16    236.599    237.805    238.638    238.654    238.316    237.945   \n17    239.261    240.229    241.018    240.628    240.849    241.428   \n18    244.524    244.733    244.955    244.786    245.519    246.819   \n19    250.546    251.588    251.989    252.006    252.146    252.439   \n20    255.548    256.092    256.143    256.571    256.558    256.759   \n21    256.389    256.394    257.797    259.101    259.918     260.28   \n22    267.054    269.195    271.696    273.003    273.567     274.31   \n23    289.109    292.296    296.311    296.276    296.171    296.808   \n\n   Unnamed: 10 Unnamed: 11 Unnamed: 12 Unnamed: 13 Unnamed: 14 Unnamed: 15  \n0          NaN         NaN         NaN         NaN         NaN         NaN  \n1          NaN         NaN         NaN         NaN         NaN         NaN  \n2          NaN         NaN         NaN         NaN         NaN         NaN  \n3          NaN         NaN         NaN         NaN         NaN         NaN  \n4          NaN         NaN         NaN         NaN         NaN         NaN  \n5          NaN         NaN         NaN         NaN         NaN         NaN  \n6          NaN         NaN         NaN         NaN         NaN         NaN  \n7          NaN         NaN         NaN         NaN         NaN         NaN  \n8          NaN         NaN         NaN         NaN         NaN         NaN  \n9          NaN         NaN         NaN         NaN         NaN         NaN  \n10         Oct         Nov         Dec      Annual       HALF1       HALF2  \n11     218.711     218.803     219.179     218.056     217.535     218.576  \n12     226.421      226.23     225.672     224.939     223.598      226.28  \n13     231.317     230.221     229.601     229.594      228.85     230.338  \n14     233.546     233.069     233.049     232.957     232.366     233.548  \n15     237.433     236.151     234.812     236.736     236.384     237.088  \n16     237.838     237.336     236.525     237.017     236.265     237.769  \n17     241.729     241.353     241.432     240.007     238.778     241.237  \n18     246.663     246.669     246.524      245.12     244.076     246.163  \n19     252.885     252.038     251.233     251.107     250.089     252.125  \n20     257.346     257.208     256.974     255.657     254.412     256.903  \n21     260.388     260.229     260.474     258.811     257.557     260.065  \n22     276.589     277.948     278.802      270.97     266.236     275.703  \n23     298.012     297.711     296.797     292.655     288.347     296.963  ",
      "text/html": "<div>\n<style scoped>\n    .dataframe tbody tr th:only-of-type {\n        vertical-align: middle;\n    }\n\n    .dataframe tbody tr th {\n        vertical-align: top;\n    }\n\n    .dataframe thead th {\n        text-align: right;\n    }\n</style>\n<table border=\"1\" class=\"dataframe\">\n  <thead>\n    <tr style=\"text-align: right;\">\n      <th></th>\n      <th>Consumer Price Index for All Urban Consumers (CPI-U)</th>\n      <th>Unnamed: 1</th>\n      <th>Unnamed: 2</th>\n      <th>Unnamed: 3</th>\n      <th>Unnamed: 4</th>\n      <th>Unnamed: 5</th>\n      <th>Unnamed: 6</th>\n      <th>Unnamed: 7</th>\n      <th>Unnamed: 8</th>\n      <th>Unnamed: 9</th>\n      <th>Unnamed: 10</th>\n      <th>Unnamed: 11</th>\n      <th>Unnamed: 12</th>\n      <th>Unnamed: 13</th>\n      <th>Unnamed: 14</th>\n      <th>Unnamed: 15</th>\n    </tr>\n  </thead>\n  <tbody>\n    <tr>\n      <th>0</th>\n      <td>Original Data Value</td>\n      <td>NaN</td>\n      <td>NaN</td>\n      <td>NaN</td>\n      <td>NaN</td>\n      <td>NaN</td>\n      <td>NaN</td>\n      <td>NaN</td>\n      <td>NaN</td>\n      <td>NaN</td>\n      <td>NaN</td>\n      <td>NaN</td>\n      <td>NaN</td>\n      <td>NaN</td>\n      <td>NaN</td>\n      <td>NaN</td>\n    </tr>\n    <tr>\n      <th>1</th>\n      <td>NaN</td>\n      <td>NaN</td>\n      <td>NaN</td>\n      <td>NaN</td>\n      <td>NaN</td>\n      <td>NaN</td>\n      <td>NaN</td>\n      <td>NaN</td>\n      <td>NaN</td>\n      <td>NaN</td>\n      <td>NaN</td>\n      <td>NaN</td>\n      <td>NaN</td>\n      <td>NaN</td>\n      <td>NaN</td>\n      <td>NaN</td>\n    </tr>\n    <tr>\n      <th>2</th>\n      <td>Series Id:</td>\n      <td>CUUR0000SA0</td>\n      <td>NaN</td>\n      <td>NaN</td>\n      <td>NaN</td>\n      <td>NaN</td>\n      <td>NaN</td>\n      <td>NaN</td>\n      <td>NaN</td>\n      <td>NaN</td>\n      <td>NaN</td>\n      <td>NaN</td>\n      <td>NaN</td>\n      <td>NaN</td>\n      <td>NaN</td>\n      <td>NaN</td>\n    </tr>\n    <tr>\n      <th>3</th>\n      <td>Not Seasonally Adjusted</td>\n      <td>NaN</td>\n      <td>NaN</td>\n      <td>NaN</td>\n      <td>NaN</td>\n      <td>NaN</td>\n      <td>NaN</td>\n      <td>NaN</td>\n      <td>NaN</td>\n      <td>NaN</td>\n      <td>NaN</td>\n      <td>NaN</td>\n      <td>NaN</td>\n      <td>NaN</td>\n      <td>NaN</td>\n      <td>NaN</td>\n    </tr>\n    <tr>\n      <th>4</th>\n      <td>Series Title:</td>\n      <td>All items in U.S. city average, all urban cons...</td>\n      <td>NaN</td>\n      <td>NaN</td>\n      <td>NaN</td>\n      <td>NaN</td>\n      <td>NaN</td>\n      <td>NaN</td>\n      <td>NaN</td>\n      <td>NaN</td>\n      <td>NaN</td>\n      <td>NaN</td>\n      <td>NaN</td>\n      <td>NaN</td>\n      <td>NaN</td>\n      <td>NaN</td>\n    </tr>\n    <tr>\n      <th>5</th>\n      <td>Area:</td>\n      <td>U.S. city average</td>\n      <td>NaN</td>\n      <td>NaN</td>\n      <td>NaN</td>\n      <td>NaN</td>\n      <td>NaN</td>\n      <td>NaN</td>\n      <td>NaN</td>\n      <td>NaN</td>\n      <td>NaN</td>\n      <td>NaN</td>\n      <td>NaN</td>\n      <td>NaN</td>\n      <td>NaN</td>\n      <td>NaN</td>\n    </tr>\n    <tr>\n      <th>6</th>\n      <td>Item:</td>\n      <td>All items</td>\n      <td>NaN</td>\n      <td>NaN</td>\n      <td>NaN</td>\n      <td>NaN</td>\n      <td>NaN</td>\n      <td>NaN</td>\n      <td>NaN</td>\n      <td>NaN</td>\n      <td>NaN</td>\n      <td>NaN</td>\n      <td>NaN</td>\n      <td>NaN</td>\n      <td>NaN</td>\n      <td>NaN</td>\n    </tr>\n    <tr>\n      <th>7</th>\n      <td>Base Period:</td>\n      <td>1982-84=100</td>\n      <td>NaN</td>\n      <td>NaN</td>\n      <td>NaN</td>\n      <td>NaN</td>\n      <td>NaN</td>\n      <td>NaN</td>\n      <td>NaN</td>\n      <td>NaN</td>\n      <td>NaN</td>\n      <td>NaN</td>\n      <td>NaN</td>\n      <td>NaN</td>\n      <td>NaN</td>\n      <td>NaN</td>\n    </tr>\n    <tr>\n      <th>8</th>\n      <td>Years:</td>\n      <td>2010 to 2022</td>\n      <td>NaN</td>\n      <td>NaN</td>\n      <td>NaN</td>\n      <td>NaN</td>\n      <td>NaN</td>\n      <td>NaN</td>\n      <td>NaN</td>\n      <td>NaN</td>\n      <td>NaN</td>\n      <td>NaN</td>\n      <td>NaN</td>\n      <td>NaN</td>\n      <td>NaN</td>\n      <td>NaN</td>\n    </tr>\n    <tr>\n      <th>9</th>\n      <td>NaN</td>\n      <td>NaN</td>\n      <td>NaN</td>\n      <td>NaN</td>\n      <td>NaN</td>\n      <td>NaN</td>\n      <td>NaN</td>\n      <td>NaN</td>\n      <td>NaN</td>\n      <td>NaN</td>\n      <td>NaN</td>\n      <td>NaN</td>\n      <td>NaN</td>\n      <td>NaN</td>\n      <td>NaN</td>\n      <td>NaN</td>\n    </tr>\n    <tr>\n      <th>10</th>\n      <td>Year</td>\n      <td>Jan</td>\n      <td>Feb</td>\n      <td>Mar</td>\n      <td>Apr</td>\n      <td>May</td>\n      <td>Jun</td>\n      <td>Jul</td>\n      <td>Aug</td>\n      <td>Sep</td>\n      <td>Oct</td>\n      <td>Nov</td>\n      <td>Dec</td>\n      <td>Annual</td>\n      <td>HALF1</td>\n      <td>HALF2</td>\n    </tr>\n    <tr>\n      <th>11</th>\n      <td>2010</td>\n      <td>216.687</td>\n      <td>216.741</td>\n      <td>217.631</td>\n      <td>218.009</td>\n      <td>218.178</td>\n      <td>217.965</td>\n      <td>218.011</td>\n      <td>218.312</td>\n      <td>218.439</td>\n      <td>218.711</td>\n      <td>218.803</td>\n      <td>219.179</td>\n      <td>218.056</td>\n      <td>217.535</td>\n      <td>218.576</td>\n    </tr>\n    <tr>\n      <th>12</th>\n      <td>2011</td>\n      <td>220.223</td>\n      <td>221.309</td>\n      <td>223.467</td>\n      <td>224.906</td>\n      <td>225.964</td>\n      <td>225.722</td>\n      <td>225.922</td>\n      <td>226.545</td>\n      <td>226.889</td>\n      <td>226.421</td>\n      <td>226.23</td>\n      <td>225.672</td>\n      <td>224.939</td>\n      <td>223.598</td>\n      <td>226.28</td>\n    </tr>\n    <tr>\n      <th>13</th>\n      <td>2012</td>\n      <td>226.665</td>\n      <td>227.663</td>\n      <td>229.392</td>\n      <td>230.085</td>\n      <td>229.815</td>\n      <td>229.478</td>\n      <td>229.104</td>\n      <td>230.379</td>\n      <td>231.407</td>\n      <td>231.317</td>\n      <td>230.221</td>\n      <td>229.601</td>\n      <td>229.594</td>\n      <td>228.85</td>\n      <td>230.338</td>\n    </tr>\n    <tr>\n      <th>14</th>\n      <td>2013</td>\n      <td>230.28</td>\n      <td>232.166</td>\n      <td>232.773</td>\n      <td>232.531</td>\n      <td>232.945</td>\n      <td>233.504</td>\n      <td>233.596</td>\n      <td>233.877</td>\n      <td>234.149</td>\n      <td>233.546</td>\n      <td>233.069</td>\n      <td>233.049</td>\n      <td>232.957</td>\n      <td>232.366</td>\n      <td>233.548</td>\n    </tr>\n    <tr>\n      <th>15</th>\n      <td>2014</td>\n      <td>233.916</td>\n      <td>234.781</td>\n      <td>236.293</td>\n      <td>237.072</td>\n      <td>237.9</td>\n      <td>238.343</td>\n      <td>238.25</td>\n      <td>237.852</td>\n      <td>238.031</td>\n      <td>237.433</td>\n      <td>236.151</td>\n      <td>234.812</td>\n      <td>236.736</td>\n      <td>236.384</td>\n      <td>237.088</td>\n    </tr>\n    <tr>\n      <th>16</th>\n      <td>2015</td>\n      <td>233.707</td>\n      <td>234.722</td>\n      <td>236.119</td>\n      <td>236.599</td>\n      <td>237.805</td>\n      <td>238.638</td>\n      <td>238.654</td>\n      <td>238.316</td>\n      <td>237.945</td>\n      <td>237.838</td>\n      <td>237.336</td>\n      <td>236.525</td>\n      <td>237.017</td>\n      <td>236.265</td>\n      <td>237.769</td>\n    </tr>\n    <tr>\n      <th>17</th>\n      <td>2016</td>\n      <td>236.916</td>\n      <td>237.111</td>\n      <td>238.132</td>\n      <td>239.261</td>\n      <td>240.229</td>\n      <td>241.018</td>\n      <td>240.628</td>\n      <td>240.849</td>\n      <td>241.428</td>\n      <td>241.729</td>\n      <td>241.353</td>\n      <td>241.432</td>\n      <td>240.007</td>\n      <td>238.778</td>\n      <td>241.237</td>\n    </tr>\n    <tr>\n      <th>18</th>\n      <td>2017</td>\n      <td>242.839</td>\n      <td>243.603</td>\n      <td>243.801</td>\n      <td>244.524</td>\n      <td>244.733</td>\n      <td>244.955</td>\n      <td>244.786</td>\n      <td>245.519</td>\n      <td>246.819</td>\n      <td>246.663</td>\n      <td>246.669</td>\n      <td>246.524</td>\n      <td>245.12</td>\n      <td>244.076</td>\n      <td>246.163</td>\n    </tr>\n    <tr>\n      <th>19</th>\n      <td>2018</td>\n      <td>247.867</td>\n      <td>248.991</td>\n      <td>249.554</td>\n      <td>250.546</td>\n      <td>251.588</td>\n      <td>251.989</td>\n      <td>252.006</td>\n      <td>252.146</td>\n      <td>252.439</td>\n      <td>252.885</td>\n      <td>252.038</td>\n      <td>251.233</td>\n      <td>251.107</td>\n      <td>250.089</td>\n      <td>252.125</td>\n    </tr>\n    <tr>\n      <th>20</th>\n      <td>2019</td>\n      <td>251.712</td>\n      <td>252.776</td>\n      <td>254.202</td>\n      <td>255.548</td>\n      <td>256.092</td>\n      <td>256.143</td>\n      <td>256.571</td>\n      <td>256.558</td>\n      <td>256.759</td>\n      <td>257.346</td>\n      <td>257.208</td>\n      <td>256.974</td>\n      <td>255.657</td>\n      <td>254.412</td>\n      <td>256.903</td>\n    </tr>\n    <tr>\n      <th>21</th>\n      <td>2020</td>\n      <td>257.971</td>\n      <td>258.678</td>\n      <td>258.115</td>\n      <td>256.389</td>\n      <td>256.394</td>\n      <td>257.797</td>\n      <td>259.101</td>\n      <td>259.918</td>\n      <td>260.28</td>\n      <td>260.388</td>\n      <td>260.229</td>\n      <td>260.474</td>\n      <td>258.811</td>\n      <td>257.557</td>\n      <td>260.065</td>\n    </tr>\n    <tr>\n      <th>22</th>\n      <td>2021</td>\n      <td>261.582</td>\n      <td>263.014</td>\n      <td>264.877</td>\n      <td>267.054</td>\n      <td>269.195</td>\n      <td>271.696</td>\n      <td>273.003</td>\n      <td>273.567</td>\n      <td>274.31</td>\n      <td>276.589</td>\n      <td>277.948</td>\n      <td>278.802</td>\n      <td>270.97</td>\n      <td>266.236</td>\n      <td>275.703</td>\n    </tr>\n    <tr>\n      <th>23</th>\n      <td>2022</td>\n      <td>281.148</td>\n      <td>283.716</td>\n      <td>287.504</td>\n      <td>289.109</td>\n      <td>292.296</td>\n      <td>296.311</td>\n      <td>296.276</td>\n      <td>296.171</td>\n      <td>296.808</td>\n      <td>298.012</td>\n      <td>297.711</td>\n      <td>296.797</td>\n      <td>292.655</td>\n      <td>288.347</td>\n      <td>296.963</td>\n    </tr>\n  </tbody>\n</table>\n</div>"
     },
     "execution_count": 3,
     "metadata": {},
     "output_type": "execute_result"
    }
   ],
   "source": [
    "cpi"
   ],
   "metadata": {
    "collapsed": false,
    "ExecuteTime": {
     "end_time": "2023-11-30T06:38:21.765444523Z",
     "start_time": "2023-11-30T06:38:21.758601523Z"
    }
   },
   "id": "cbbc3464d5b39717"
  },
  {
   "cell_type": "code",
   "execution_count": 4,
   "outputs": [],
   "source": [
    "cpi_u = cpi.iloc[10:,[0,-3]].reset_index(drop=True)"
   ],
   "metadata": {
    "collapsed": false,
    "ExecuteTime": {
     "end_time": "2023-11-30T06:38:26.019732905Z",
     "start_time": "2023-11-30T06:38:26.014450678Z"
    }
   },
   "id": "4457a45f7001207f"
  },
  {
   "cell_type": "code",
   "execution_count": 5,
   "outputs": [
    {
     "data": {
      "text/plain": "   Consumer Price Index for All Urban Consumers (CPI-U) Unnamed: 13\n0                                                Year        Annual\n1                                                2010       218.056\n2                                                2011       224.939\n3                                                2012       229.594\n4                                                2013       232.957\n5                                                2014       236.736\n6                                                2015       237.017\n7                                                2016       240.007\n8                                                2017        245.12\n9                                                2018       251.107\n10                                               2019       255.657\n11                                               2020       258.811\n12                                               2021        270.97\n13                                               2022       292.655",
      "text/html": "<div>\n<style scoped>\n    .dataframe tbody tr th:only-of-type {\n        vertical-align: middle;\n    }\n\n    .dataframe tbody tr th {\n        vertical-align: top;\n    }\n\n    .dataframe thead th {\n        text-align: right;\n    }\n</style>\n<table border=\"1\" class=\"dataframe\">\n  <thead>\n    <tr style=\"text-align: right;\">\n      <th></th>\n      <th>Consumer Price Index for All Urban Consumers (CPI-U)</th>\n      <th>Unnamed: 13</th>\n    </tr>\n  </thead>\n  <tbody>\n    <tr>\n      <th>0</th>\n      <td>Year</td>\n      <td>Annual</td>\n    </tr>\n    <tr>\n      <th>1</th>\n      <td>2010</td>\n      <td>218.056</td>\n    </tr>\n    <tr>\n      <th>2</th>\n      <td>2011</td>\n      <td>224.939</td>\n    </tr>\n    <tr>\n      <th>3</th>\n      <td>2012</td>\n      <td>229.594</td>\n    </tr>\n    <tr>\n      <th>4</th>\n      <td>2013</td>\n      <td>232.957</td>\n    </tr>\n    <tr>\n      <th>5</th>\n      <td>2014</td>\n      <td>236.736</td>\n    </tr>\n    <tr>\n      <th>6</th>\n      <td>2015</td>\n      <td>237.017</td>\n    </tr>\n    <tr>\n      <th>7</th>\n      <td>2016</td>\n      <td>240.007</td>\n    </tr>\n    <tr>\n      <th>8</th>\n      <td>2017</td>\n      <td>245.12</td>\n    </tr>\n    <tr>\n      <th>9</th>\n      <td>2018</td>\n      <td>251.107</td>\n    </tr>\n    <tr>\n      <th>10</th>\n      <td>2019</td>\n      <td>255.657</td>\n    </tr>\n    <tr>\n      <th>11</th>\n      <td>2020</td>\n      <td>258.811</td>\n    </tr>\n    <tr>\n      <th>12</th>\n      <td>2021</td>\n      <td>270.97</td>\n    </tr>\n    <tr>\n      <th>13</th>\n      <td>2022</td>\n      <td>292.655</td>\n    </tr>\n  </tbody>\n</table>\n</div>"
     },
     "execution_count": 5,
     "metadata": {},
     "output_type": "execute_result"
    }
   ],
   "source": [
    "cpi_u"
   ],
   "metadata": {
    "collapsed": false,
    "ExecuteTime": {
     "end_time": "2023-11-30T06:38:29.783846036Z",
     "start_time": "2023-11-30T06:38:29.778739078Z"
    }
   },
   "id": "364c5823eb56c504"
  },
  {
   "cell_type": "code",
   "execution_count": 6,
   "outputs": [],
   "source": [
    "cpi_u = cpi_u.drop([0, 11]).reset_index(drop=True)"
   ],
   "metadata": {
    "collapsed": false,
    "ExecuteTime": {
     "end_time": "2023-11-30T06:38:32.223692201Z",
     "start_time": "2023-11-30T06:38:32.220488304Z"
    }
   },
   "id": "763637f588100c3b"
  },
  {
   "cell_type": "code",
   "execution_count": 7,
   "outputs": [
    {
     "data": {
      "text/plain": "   Consumer Price Index for All Urban Consumers (CPI-U) Unnamed: 13\n0                                                2010       218.056\n1                                                2011       224.939\n2                                                2012       229.594\n3                                                2013       232.957\n4                                                2014       236.736\n5                                                2015       237.017\n6                                                2016       240.007\n7                                                2017        245.12\n8                                                2018       251.107\n9                                                2019       255.657\n10                                               2021        270.97\n11                                               2022       292.655",
      "text/html": "<div>\n<style scoped>\n    .dataframe tbody tr th:only-of-type {\n        vertical-align: middle;\n    }\n\n    .dataframe tbody tr th {\n        vertical-align: top;\n    }\n\n    .dataframe thead th {\n        text-align: right;\n    }\n</style>\n<table border=\"1\" class=\"dataframe\">\n  <thead>\n    <tr style=\"text-align: right;\">\n      <th></th>\n      <th>Consumer Price Index for All Urban Consumers (CPI-U)</th>\n      <th>Unnamed: 13</th>\n    </tr>\n  </thead>\n  <tbody>\n    <tr>\n      <th>0</th>\n      <td>2010</td>\n      <td>218.056</td>\n    </tr>\n    <tr>\n      <th>1</th>\n      <td>2011</td>\n      <td>224.939</td>\n    </tr>\n    <tr>\n      <th>2</th>\n      <td>2012</td>\n      <td>229.594</td>\n    </tr>\n    <tr>\n      <th>3</th>\n      <td>2013</td>\n      <td>232.957</td>\n    </tr>\n    <tr>\n      <th>4</th>\n      <td>2014</td>\n      <td>236.736</td>\n    </tr>\n    <tr>\n      <th>5</th>\n      <td>2015</td>\n      <td>237.017</td>\n    </tr>\n    <tr>\n      <th>6</th>\n      <td>2016</td>\n      <td>240.007</td>\n    </tr>\n    <tr>\n      <th>7</th>\n      <td>2017</td>\n      <td>245.12</td>\n    </tr>\n    <tr>\n      <th>8</th>\n      <td>2018</td>\n      <td>251.107</td>\n    </tr>\n    <tr>\n      <th>9</th>\n      <td>2019</td>\n      <td>255.657</td>\n    </tr>\n    <tr>\n      <th>10</th>\n      <td>2021</td>\n      <td>270.97</td>\n    </tr>\n    <tr>\n      <th>11</th>\n      <td>2022</td>\n      <td>292.655</td>\n    </tr>\n  </tbody>\n</table>\n</div>"
     },
     "execution_count": 7,
     "metadata": {},
     "output_type": "execute_result"
    }
   ],
   "source": [
    "cpi_u"
   ],
   "metadata": {
    "collapsed": false,
    "ExecuteTime": {
     "end_time": "2023-11-30T06:38:33.319030635Z",
     "start_time": "2023-11-30T06:38:33.313847157Z"
    }
   },
   "id": "d0565eb2cc4fb445"
  },
  {
   "cell_type": "code",
   "execution_count": 8,
   "outputs": [],
   "source": [
    "cpi_u['Year'] = cpi_u['Consumer Price Index for All Urban Consumers (CPI-U)']\n",
    "cpi_u['CPI-U'] = cpi_u['Unnamed: 13']"
   ],
   "metadata": {
    "collapsed": false,
    "ExecuteTime": {
     "end_time": "2023-11-30T06:38:35.568003100Z",
     "start_time": "2023-11-30T06:38:35.564690276Z"
    }
   },
   "id": "e6c23d875a650a22"
  },
  {
   "cell_type": "code",
   "execution_count": 9,
   "outputs": [],
   "source": [
    "cpi_u = cpi_u.iloc[:, 2:]"
   ],
   "metadata": {
    "collapsed": false,
    "ExecuteTime": {
     "end_time": "2023-11-30T06:38:37.848286448Z",
     "start_time": "2023-11-30T06:38:37.846902915Z"
    }
   },
   "id": "40043833364cf7c9"
  },
  {
   "cell_type": "code",
   "execution_count": 10,
   "outputs": [
    {
     "data": {
      "text/plain": "    Year    CPI-U\n0   2010  218.056\n1   2011  224.939\n2   2012  229.594\n3   2013  232.957\n4   2014  236.736\n5   2015  237.017\n6   2016  240.007\n7   2017   245.12\n8   2018  251.107\n9   2019  255.657\n10  2021   270.97\n11  2022  292.655",
      "text/html": "<div>\n<style scoped>\n    .dataframe tbody tr th:only-of-type {\n        vertical-align: middle;\n    }\n\n    .dataframe tbody tr th {\n        vertical-align: top;\n    }\n\n    .dataframe thead th {\n        text-align: right;\n    }\n</style>\n<table border=\"1\" class=\"dataframe\">\n  <thead>\n    <tr style=\"text-align: right;\">\n      <th></th>\n      <th>Year</th>\n      <th>CPI-U</th>\n    </tr>\n  </thead>\n  <tbody>\n    <tr>\n      <th>0</th>\n      <td>2010</td>\n      <td>218.056</td>\n    </tr>\n    <tr>\n      <th>1</th>\n      <td>2011</td>\n      <td>224.939</td>\n    </tr>\n    <tr>\n      <th>2</th>\n      <td>2012</td>\n      <td>229.594</td>\n    </tr>\n    <tr>\n      <th>3</th>\n      <td>2013</td>\n      <td>232.957</td>\n    </tr>\n    <tr>\n      <th>4</th>\n      <td>2014</td>\n      <td>236.736</td>\n    </tr>\n    <tr>\n      <th>5</th>\n      <td>2015</td>\n      <td>237.017</td>\n    </tr>\n    <tr>\n      <th>6</th>\n      <td>2016</td>\n      <td>240.007</td>\n    </tr>\n    <tr>\n      <th>7</th>\n      <td>2017</td>\n      <td>245.12</td>\n    </tr>\n    <tr>\n      <th>8</th>\n      <td>2018</td>\n      <td>251.107</td>\n    </tr>\n    <tr>\n      <th>9</th>\n      <td>2019</td>\n      <td>255.657</td>\n    </tr>\n    <tr>\n      <th>10</th>\n      <td>2021</td>\n      <td>270.97</td>\n    </tr>\n    <tr>\n      <th>11</th>\n      <td>2022</td>\n      <td>292.655</td>\n    </tr>\n  </tbody>\n</table>\n</div>"
     },
     "execution_count": 10,
     "metadata": {},
     "output_type": "execute_result"
    }
   ],
   "source": [
    "cpi_u"
   ],
   "metadata": {
    "collapsed": false,
    "ExecuteTime": {
     "end_time": "2023-11-30T06:38:38.441627309Z",
     "start_time": "2023-11-30T06:38:38.435106508Z"
    }
   },
   "id": "2d6942a8522d6ee9"
  },
  {
   "cell_type": "code",
   "execution_count": 11,
   "outputs": [],
   "source": [
    "cpi_u['inflation_factor'] = cpi_u['CPI-U'].iloc[0] / cpi_u['CPI-U']"
   ],
   "metadata": {
    "collapsed": false,
    "ExecuteTime": {
     "end_time": "2023-11-30T06:38:39.985403321Z",
     "start_time": "2023-11-30T06:38:39.978863161Z"
    }
   },
   "id": "8bbc0192e842da8b"
  },
  {
   "cell_type": "code",
   "execution_count": 12,
   "outputs": [
    {
     "data": {
      "text/plain": "    Year    CPI-U inflation_factor\n0   2010  218.056              1.0\n1   2011  224.939         0.969401\n2   2012  229.594         0.949746\n3   2013  232.957         0.936035\n4   2014  236.736         0.921094\n5   2015  237.017         0.920002\n6   2016  240.007          0.90854\n7   2017   245.12         0.889589\n8   2018  251.107         0.868379\n9   2019  255.657         0.852924\n10  2021   270.97         0.804724\n11  2022  292.655         0.745096",
      "text/html": "<div>\n<style scoped>\n    .dataframe tbody tr th:only-of-type {\n        vertical-align: middle;\n    }\n\n    .dataframe tbody tr th {\n        vertical-align: top;\n    }\n\n    .dataframe thead th {\n        text-align: right;\n    }\n</style>\n<table border=\"1\" class=\"dataframe\">\n  <thead>\n    <tr style=\"text-align: right;\">\n      <th></th>\n      <th>Year</th>\n      <th>CPI-U</th>\n      <th>inflation_factor</th>\n    </tr>\n  </thead>\n  <tbody>\n    <tr>\n      <th>0</th>\n      <td>2010</td>\n      <td>218.056</td>\n      <td>1.0</td>\n    </tr>\n    <tr>\n      <th>1</th>\n      <td>2011</td>\n      <td>224.939</td>\n      <td>0.969401</td>\n    </tr>\n    <tr>\n      <th>2</th>\n      <td>2012</td>\n      <td>229.594</td>\n      <td>0.949746</td>\n    </tr>\n    <tr>\n      <th>3</th>\n      <td>2013</td>\n      <td>232.957</td>\n      <td>0.936035</td>\n    </tr>\n    <tr>\n      <th>4</th>\n      <td>2014</td>\n      <td>236.736</td>\n      <td>0.921094</td>\n    </tr>\n    <tr>\n      <th>5</th>\n      <td>2015</td>\n      <td>237.017</td>\n      <td>0.920002</td>\n    </tr>\n    <tr>\n      <th>6</th>\n      <td>2016</td>\n      <td>240.007</td>\n      <td>0.90854</td>\n    </tr>\n    <tr>\n      <th>7</th>\n      <td>2017</td>\n      <td>245.12</td>\n      <td>0.889589</td>\n    </tr>\n    <tr>\n      <th>8</th>\n      <td>2018</td>\n      <td>251.107</td>\n      <td>0.868379</td>\n    </tr>\n    <tr>\n      <th>9</th>\n      <td>2019</td>\n      <td>255.657</td>\n      <td>0.852924</td>\n    </tr>\n    <tr>\n      <th>10</th>\n      <td>2021</td>\n      <td>270.97</td>\n      <td>0.804724</td>\n    </tr>\n    <tr>\n      <th>11</th>\n      <td>2022</td>\n      <td>292.655</td>\n      <td>0.745096</td>\n    </tr>\n  </tbody>\n</table>\n</div>"
     },
     "execution_count": 12,
     "metadata": {},
     "output_type": "execute_result"
    }
   ],
   "source": [
    "cpi_u"
   ],
   "metadata": {
    "collapsed": false,
    "ExecuteTime": {
     "end_time": "2023-11-30T06:38:40.788728957Z",
     "start_time": "2023-11-30T06:38:40.784355455Z"
    }
   },
   "id": "f2200c377d322450"
  },
  {
   "cell_type": "code",
   "execution_count": 13,
   "outputs": [],
   "source": [
    "cpi_u.to_csv('cpi-u.csv', index=False)"
   ],
   "metadata": {
    "collapsed": false,
    "ExecuteTime": {
     "end_time": "2023-11-30T06:38:44.083604342Z",
     "start_time": "2023-11-30T06:38:44.080391166Z"
    }
   },
   "id": "7d376194e316d780"
  },
  {
   "cell_type": "markdown",
   "source": [
    "## Load median income data"
   ],
   "metadata": {
    "collapsed": false
   },
   "id": "feb43a1cf6ec7879"
  },
  {
   "cell_type": "code",
   "execution_count": 14,
   "outputs": [
    {
     "name": "stderr",
     "output_type": "stream",
     "text": [
      "/tmp/ipykernel_36769/3661190981.py:2: FutureWarning: DataFrame.applymap has been deprecated. Use DataFrame.map instead.\n",
      "  median_income.iloc[:,1:] = median_income.iloc[:,1:].applymap(lambda x: int(x.replace(',', '')))\n"
     ]
    }
   ],
   "source": [
    "median_income = pd.read_csv('./median_income_over_years.csv')\n",
    "median_income.iloc[:,1:] = median_income.iloc[:,1:].applymap(lambda x: int(x.replace(',', '')))"
   ],
   "metadata": {
    "collapsed": false,
    "ExecuteTime": {
     "end_time": "2023-11-30T06:39:01.316101728Z",
     "start_time": "2023-11-30T06:39:01.274268090Z"
    }
   },
   "id": "9b6190009628669"
  },
  {
   "cell_type": "code",
   "execution_count": 15,
   "outputs": [
    {
     "data": {
      "text/plain": "                             Label (Grouping)   2010   2011   2012   2013  \\\n0                                       White  52480  53444  54729  55867   \n1                   Black or African American  33578  33223  33764  34815   \n2           American Indian and Alaska Native  35062  35192  35310  36641   \n3                                       Asian  67022  67885  70644  72472   \n4  Native Hawaiian and Other Pacific Islander  52776  49378  51322  50591   \n5                             Some other race  38230  37172  38439  39346   \n\n    2014   2015   2016   2017   2018   2019    2021    2022  \n0  57355  59698  61349  63704  65902  69823   74932   79933  \n1  35481  36544  38555  40232  41511  43862   46774   51374  \n2  37227  38530  39719  41882  44772  45476   53149   58082  \n3  74105  77368  80720  83456  87243  93759  100572  106954  \n4  52815  55607  57112  60734  61911  66464   69973   72411  \n5  40865  42461  44798  47219  48983  53097   57671   63290  ",
      "text/html": "<div>\n<style scoped>\n    .dataframe tbody tr th:only-of-type {\n        vertical-align: middle;\n    }\n\n    .dataframe tbody tr th {\n        vertical-align: top;\n    }\n\n    .dataframe thead th {\n        text-align: right;\n    }\n</style>\n<table border=\"1\" class=\"dataframe\">\n  <thead>\n    <tr style=\"text-align: right;\">\n      <th></th>\n      <th>Label (Grouping)</th>\n      <th>2010</th>\n      <th>2011</th>\n      <th>2012</th>\n      <th>2013</th>\n      <th>2014</th>\n      <th>2015</th>\n      <th>2016</th>\n      <th>2017</th>\n      <th>2018</th>\n      <th>2019</th>\n      <th>2021</th>\n      <th>2022</th>\n    </tr>\n  </thead>\n  <tbody>\n    <tr>\n      <th>0</th>\n      <td>White</td>\n      <td>52480</td>\n      <td>53444</td>\n      <td>54729</td>\n      <td>55867</td>\n      <td>57355</td>\n      <td>59698</td>\n      <td>61349</td>\n      <td>63704</td>\n      <td>65902</td>\n      <td>69823</td>\n      <td>74932</td>\n      <td>79933</td>\n    </tr>\n    <tr>\n      <th>1</th>\n      <td>Black or African American</td>\n      <td>33578</td>\n      <td>33223</td>\n      <td>33764</td>\n      <td>34815</td>\n      <td>35481</td>\n      <td>36544</td>\n      <td>38555</td>\n      <td>40232</td>\n      <td>41511</td>\n      <td>43862</td>\n      <td>46774</td>\n      <td>51374</td>\n    </tr>\n    <tr>\n      <th>2</th>\n      <td>American Indian and Alaska Native</td>\n      <td>35062</td>\n      <td>35192</td>\n      <td>35310</td>\n      <td>36641</td>\n      <td>37227</td>\n      <td>38530</td>\n      <td>39719</td>\n      <td>41882</td>\n      <td>44772</td>\n      <td>45476</td>\n      <td>53149</td>\n      <td>58082</td>\n    </tr>\n    <tr>\n      <th>3</th>\n      <td>Asian</td>\n      <td>67022</td>\n      <td>67885</td>\n      <td>70644</td>\n      <td>72472</td>\n      <td>74105</td>\n      <td>77368</td>\n      <td>80720</td>\n      <td>83456</td>\n      <td>87243</td>\n      <td>93759</td>\n      <td>100572</td>\n      <td>106954</td>\n    </tr>\n    <tr>\n      <th>4</th>\n      <td>Native Hawaiian and Other Pacific Islander</td>\n      <td>52776</td>\n      <td>49378</td>\n      <td>51322</td>\n      <td>50591</td>\n      <td>52815</td>\n      <td>55607</td>\n      <td>57112</td>\n      <td>60734</td>\n      <td>61911</td>\n      <td>66464</td>\n      <td>69973</td>\n      <td>72411</td>\n    </tr>\n    <tr>\n      <th>5</th>\n      <td>Some other race</td>\n      <td>38230</td>\n      <td>37172</td>\n      <td>38439</td>\n      <td>39346</td>\n      <td>40865</td>\n      <td>42461</td>\n      <td>44798</td>\n      <td>47219</td>\n      <td>48983</td>\n      <td>53097</td>\n      <td>57671</td>\n      <td>63290</td>\n    </tr>\n  </tbody>\n</table>\n</div>"
     },
     "execution_count": 15,
     "metadata": {},
     "output_type": "execute_result"
    }
   ],
   "source": [
    "median_income"
   ],
   "metadata": {
    "collapsed": false,
    "ExecuteTime": {
     "end_time": "2023-11-30T06:39:02.657233758Z",
     "start_time": "2023-11-30T06:39:02.650626986Z"
    }
   },
   "id": "ed168a3f35897b97"
  },
  {
   "cell_type": "markdown",
   "source": [
    "## Adjust for Inflation"
   ],
   "metadata": {
    "collapsed": false
   },
   "id": "83384518134b3bdb"
  },
  {
   "cell_type": "code",
   "execution_count": 16,
   "outputs": [],
   "source": [
    "for i in range(median_income.shape[0]):\n",
    "    median_income.iloc[i, 1:] = median_income.iloc[i, 1:].reset_index(drop=True) * cpi_u['inflation_factor']\n"
   ],
   "metadata": {
    "collapsed": false,
    "ExecuteTime": {
     "end_time": "2023-11-30T06:39:21.015203313Z",
     "start_time": "2023-11-30T06:39:20.957734472Z"
    }
   },
   "id": "6df3f96742284d0c"
  },
  {
   "cell_type": "code",
   "execution_count": 17,
   "outputs": [
    {
     "data": {
      "text/plain": "                             Label (Grouping)     2010          2011  \\\n0                                       White  52480.0  51808.645295   \n1                   Black or African American  33578.0  32206.395903   \n2           American Indian and Alaska Native  35062.0  34115.145671   \n3                                       Asian  67022.0  65807.759259   \n4  Native Hawaiian and Other Pacific Islander  52776.0  47867.062484   \n5                             Some other race  38230.0  36034.558845   \n\n           2012          2013          2014          2015          2016  \\\n0  51978.652857  52293.490009  52829.319918  54922.250674  55738.030741   \n1  32067.226426  32588.072649   32681.31985  33620.535506  35028.766161   \n2  33535.533855  34297.273299  34289.549169  35447.658522  36086.306916   \n3  67093.861617   67836.35792  68257.636692  71178.677513  73337.362327   \n4  48742.867984  47354.967209  48647.555251   51158.52446  51888.546051   \n5  36507.289319  36829.249072  37640.487463  39064.184493  40700.782427   \n\n           2017          2018          2019          2021          2022  \n0  56670.363185  57227.900903  59553.714891  60299.561546  59557.739482  \n1  35789.935509  36047.273139   37410.95402  37640.149625  38278.549637  \n2  37257.756984  38879.056466  38787.573413   42770.26366  43276.652003  \n3  74241.520627   75759.97327  79969.304592  80932.679012  79690.972046  \n4   54028.28453  53762.201038  56688.743058  56308.936369  53953.129166  \n5  42005.492265  42535.799671  45287.707483  46409.224549  47157.110728  ",
      "text/html": "<div>\n<style scoped>\n    .dataframe tbody tr th:only-of-type {\n        vertical-align: middle;\n    }\n\n    .dataframe tbody tr th {\n        vertical-align: top;\n    }\n\n    .dataframe thead th {\n        text-align: right;\n    }\n</style>\n<table border=\"1\" class=\"dataframe\">\n  <thead>\n    <tr style=\"text-align: right;\">\n      <th></th>\n      <th>Label (Grouping)</th>\n      <th>2010</th>\n      <th>2011</th>\n      <th>2012</th>\n      <th>2013</th>\n      <th>2014</th>\n      <th>2015</th>\n      <th>2016</th>\n      <th>2017</th>\n      <th>2018</th>\n      <th>2019</th>\n      <th>2021</th>\n      <th>2022</th>\n    </tr>\n  </thead>\n  <tbody>\n    <tr>\n      <th>0</th>\n      <td>White</td>\n      <td>52480.0</td>\n      <td>51808.645295</td>\n      <td>51978.652857</td>\n      <td>52293.490009</td>\n      <td>52829.319918</td>\n      <td>54922.250674</td>\n      <td>55738.030741</td>\n      <td>56670.363185</td>\n      <td>57227.900903</td>\n      <td>59553.714891</td>\n      <td>60299.561546</td>\n      <td>59557.739482</td>\n    </tr>\n    <tr>\n      <th>1</th>\n      <td>Black or African American</td>\n      <td>33578.0</td>\n      <td>32206.395903</td>\n      <td>32067.226426</td>\n      <td>32588.072649</td>\n      <td>32681.31985</td>\n      <td>33620.535506</td>\n      <td>35028.766161</td>\n      <td>35789.935509</td>\n      <td>36047.273139</td>\n      <td>37410.95402</td>\n      <td>37640.149625</td>\n      <td>38278.549637</td>\n    </tr>\n    <tr>\n      <th>2</th>\n      <td>American Indian and Alaska Native</td>\n      <td>35062.0</td>\n      <td>34115.145671</td>\n      <td>33535.533855</td>\n      <td>34297.273299</td>\n      <td>34289.549169</td>\n      <td>35447.658522</td>\n      <td>36086.306916</td>\n      <td>37257.756984</td>\n      <td>38879.056466</td>\n      <td>38787.573413</td>\n      <td>42770.26366</td>\n      <td>43276.652003</td>\n    </tr>\n    <tr>\n      <th>3</th>\n      <td>Asian</td>\n      <td>67022.0</td>\n      <td>65807.759259</td>\n      <td>67093.861617</td>\n      <td>67836.35792</td>\n      <td>68257.636692</td>\n      <td>71178.677513</td>\n      <td>73337.362327</td>\n      <td>74241.520627</td>\n      <td>75759.97327</td>\n      <td>79969.304592</td>\n      <td>80932.679012</td>\n      <td>79690.972046</td>\n    </tr>\n    <tr>\n      <th>4</th>\n      <td>Native Hawaiian and Other Pacific Islander</td>\n      <td>52776.0</td>\n      <td>47867.062484</td>\n      <td>48742.867984</td>\n      <td>47354.967209</td>\n      <td>48647.555251</td>\n      <td>51158.52446</td>\n      <td>51888.546051</td>\n      <td>54028.28453</td>\n      <td>53762.201038</td>\n      <td>56688.743058</td>\n      <td>56308.936369</td>\n      <td>53953.129166</td>\n    </tr>\n    <tr>\n      <th>5</th>\n      <td>Some other race</td>\n      <td>38230.0</td>\n      <td>36034.558845</td>\n      <td>36507.289319</td>\n      <td>36829.249072</td>\n      <td>37640.487463</td>\n      <td>39064.184493</td>\n      <td>40700.782427</td>\n      <td>42005.492265</td>\n      <td>42535.799671</td>\n      <td>45287.707483</td>\n      <td>46409.224549</td>\n      <td>47157.110728</td>\n    </tr>\n  </tbody>\n</table>\n</div>"
     },
     "execution_count": 17,
     "metadata": {},
     "output_type": "execute_result"
    }
   ],
   "source": [
    "median_income"
   ],
   "metadata": {
    "collapsed": false,
    "ExecuteTime": {
     "end_time": "2023-11-30T06:39:23.300144903Z",
     "start_time": "2023-11-30T06:39:23.296754538Z"
    }
   },
   "id": "fc2ec94a4cdca1d2"
  },
  {
   "cell_type": "code",
   "execution_count": 18,
   "outputs": [
    {
     "data": {
      "text/plain": "              0          1          2          3          4          5\n2010        0.0        0.0        0.0        0.0        0.0        0.0\n2011  -1.279258   -4.08483  -2.700514  -1.811705  -9.301458  -5.742718\n2012  -0.955311  -4.499296   -4.35362   0.107221  -7.641981  -4.506175\n2013  -0.355393  -2.948143   -2.18107   1.215061 -10.271777   -3.66401\n2014   0.665625  -2.670439    -2.2031   1.843628   -7.82258  -1.542016\n2015   4.653679   0.126677   1.099933    6.20196  -3.064794   2.182015\n2016   6.208138   4.320585   2.921416    9.42282  -1.681548   6.462941\n2017   7.984686   6.587455   6.262498  10.771867    2.37283   9.875732\n2018   9.047067   7.353842  10.886591   13.03747   1.868654  11.262882\n2019  13.478877  11.415075  10.625673  19.317992   7.413868  18.461176\n2021  14.900079  12.097652  21.984666  20.755392    6.69421   21.39478\n2022  13.486546  13.998897  23.428932  18.902707   2.230425  23.351061",
      "text/html": "<div>\n<style scoped>\n    .dataframe tbody tr th:only-of-type {\n        vertical-align: middle;\n    }\n\n    .dataframe tbody tr th {\n        vertical-align: top;\n    }\n\n    .dataframe thead th {\n        text-align: right;\n    }\n</style>\n<table border=\"1\" class=\"dataframe\">\n  <thead>\n    <tr style=\"text-align: right;\">\n      <th></th>\n      <th>0</th>\n      <th>1</th>\n      <th>2</th>\n      <th>3</th>\n      <th>4</th>\n      <th>5</th>\n    </tr>\n  </thead>\n  <tbody>\n    <tr>\n      <th>2010</th>\n      <td>0.0</td>\n      <td>0.0</td>\n      <td>0.0</td>\n      <td>0.0</td>\n      <td>0.0</td>\n      <td>0.0</td>\n    </tr>\n    <tr>\n      <th>2011</th>\n      <td>-1.279258</td>\n      <td>-4.08483</td>\n      <td>-2.700514</td>\n      <td>-1.811705</td>\n      <td>-9.301458</td>\n      <td>-5.742718</td>\n    </tr>\n    <tr>\n      <th>2012</th>\n      <td>-0.955311</td>\n      <td>-4.499296</td>\n      <td>-4.35362</td>\n      <td>0.107221</td>\n      <td>-7.641981</td>\n      <td>-4.506175</td>\n    </tr>\n    <tr>\n      <th>2013</th>\n      <td>-0.355393</td>\n      <td>-2.948143</td>\n      <td>-2.18107</td>\n      <td>1.215061</td>\n      <td>-10.271777</td>\n      <td>-3.66401</td>\n    </tr>\n    <tr>\n      <th>2014</th>\n      <td>0.665625</td>\n      <td>-2.670439</td>\n      <td>-2.2031</td>\n      <td>1.843628</td>\n      <td>-7.82258</td>\n      <td>-1.542016</td>\n    </tr>\n    <tr>\n      <th>2015</th>\n      <td>4.653679</td>\n      <td>0.126677</td>\n      <td>1.099933</td>\n      <td>6.20196</td>\n      <td>-3.064794</td>\n      <td>2.182015</td>\n    </tr>\n    <tr>\n      <th>2016</th>\n      <td>6.208138</td>\n      <td>4.320585</td>\n      <td>2.921416</td>\n      <td>9.42282</td>\n      <td>-1.681548</td>\n      <td>6.462941</td>\n    </tr>\n    <tr>\n      <th>2017</th>\n      <td>7.984686</td>\n      <td>6.587455</td>\n      <td>6.262498</td>\n      <td>10.771867</td>\n      <td>2.37283</td>\n      <td>9.875732</td>\n    </tr>\n    <tr>\n      <th>2018</th>\n      <td>9.047067</td>\n      <td>7.353842</td>\n      <td>10.886591</td>\n      <td>13.03747</td>\n      <td>1.868654</td>\n      <td>11.262882</td>\n    </tr>\n    <tr>\n      <th>2019</th>\n      <td>13.478877</td>\n      <td>11.415075</td>\n      <td>10.625673</td>\n      <td>19.317992</td>\n      <td>7.413868</td>\n      <td>18.461176</td>\n    </tr>\n    <tr>\n      <th>2021</th>\n      <td>14.900079</td>\n      <td>12.097652</td>\n      <td>21.984666</td>\n      <td>20.755392</td>\n      <td>6.69421</td>\n      <td>21.39478</td>\n    </tr>\n    <tr>\n      <th>2022</th>\n      <td>13.486546</td>\n      <td>13.998897</td>\n      <td>23.428932</td>\n      <td>18.902707</td>\n      <td>2.230425</td>\n      <td>23.351061</td>\n    </tr>\n  </tbody>\n</table>\n</div>"
     },
     "execution_count": 18,
     "metadata": {},
     "output_type": "execute_result"
    }
   ],
   "source": [
    "percentage_change_income = pd.DataFrame()\n",
    "\n",
    "for i in range(median_income.shape[0]):\n",
    "    pct = (median_income.iloc[i, 1:] - median_income.iloc[i].iloc[1]) / median_income.iloc[i].iloc[1] * 100\n",
    "    percentage_change_income = pd.concat([percentage_change_income, pct], axis=1)\n",
    "\n",
    "percentage_change_income"
   ],
   "metadata": {
    "collapsed": false,
    "ExecuteTime": {
     "end_time": "2023-11-30T06:39:39.931212739Z",
     "start_time": "2023-11-30T06:39:39.928649790Z"
    }
   },
   "id": "d2448b2a2c608a0e"
  },
  {
   "cell_type": "code",
   "execution_count": 19,
   "outputs": [],
   "source": [
    "percentage_change_income = pd.concat([median_income.iloc[:,0], percentage_change_income.T], axis=1)"
   ],
   "metadata": {
    "collapsed": false,
    "ExecuteTime": {
     "end_time": "2023-11-30T06:39:50.804331245Z",
     "start_time": "2023-11-30T06:39:50.747115962Z"
    }
   },
   "id": "9582ff12f1bfa980"
  },
  {
   "cell_type": "code",
   "execution_count": 20,
   "outputs": [
    {
     "data": {
      "text/plain": "                             Label (Grouping) 2010      2011      2012  \\\n0                                       White  0.0 -1.279258 -0.955311   \n1                   Black or African American  0.0  -4.08483 -4.499296   \n2           American Indian and Alaska Native  0.0 -2.700514  -4.35362   \n3                                       Asian  0.0 -1.811705  0.107221   \n4  Native Hawaiian and Other Pacific Islander  0.0 -9.301458 -7.641981   \n5                             Some other race  0.0 -5.742718 -4.506175   \n\n        2013      2014      2015      2016       2017       2018       2019  \\\n0  -0.355393  0.665625  4.653679  6.208138   7.984686   9.047067  13.478877   \n1  -2.948143 -2.670439  0.126677  4.320585   6.587455   7.353842  11.415075   \n2   -2.18107   -2.2031  1.099933  2.921416   6.262498  10.886591  10.625673   \n3   1.215061  1.843628   6.20196   9.42282  10.771867   13.03747  19.317992   \n4 -10.271777  -7.82258 -3.064794 -1.681548    2.37283   1.868654   7.413868   \n5   -3.66401 -1.542016  2.182015  6.462941   9.875732  11.262882  18.461176   \n\n        2021       2022  \n0  14.900079  13.486546  \n1  12.097652  13.998897  \n2  21.984666  23.428932  \n3  20.755392  18.902707  \n4    6.69421   2.230425  \n5   21.39478  23.351061  ",
      "text/html": "<div>\n<style scoped>\n    .dataframe tbody tr th:only-of-type {\n        vertical-align: middle;\n    }\n\n    .dataframe tbody tr th {\n        vertical-align: top;\n    }\n\n    .dataframe thead th {\n        text-align: right;\n    }\n</style>\n<table border=\"1\" class=\"dataframe\">\n  <thead>\n    <tr style=\"text-align: right;\">\n      <th></th>\n      <th>Label (Grouping)</th>\n      <th>2010</th>\n      <th>2011</th>\n      <th>2012</th>\n      <th>2013</th>\n      <th>2014</th>\n      <th>2015</th>\n      <th>2016</th>\n      <th>2017</th>\n      <th>2018</th>\n      <th>2019</th>\n      <th>2021</th>\n      <th>2022</th>\n    </tr>\n  </thead>\n  <tbody>\n    <tr>\n      <th>0</th>\n      <td>White</td>\n      <td>0.0</td>\n      <td>-1.279258</td>\n      <td>-0.955311</td>\n      <td>-0.355393</td>\n      <td>0.665625</td>\n      <td>4.653679</td>\n      <td>6.208138</td>\n      <td>7.984686</td>\n      <td>9.047067</td>\n      <td>13.478877</td>\n      <td>14.900079</td>\n      <td>13.486546</td>\n    </tr>\n    <tr>\n      <th>1</th>\n      <td>Black or African American</td>\n      <td>0.0</td>\n      <td>-4.08483</td>\n      <td>-4.499296</td>\n      <td>-2.948143</td>\n      <td>-2.670439</td>\n      <td>0.126677</td>\n      <td>4.320585</td>\n      <td>6.587455</td>\n      <td>7.353842</td>\n      <td>11.415075</td>\n      <td>12.097652</td>\n      <td>13.998897</td>\n    </tr>\n    <tr>\n      <th>2</th>\n      <td>American Indian and Alaska Native</td>\n      <td>0.0</td>\n      <td>-2.700514</td>\n      <td>-4.35362</td>\n      <td>-2.18107</td>\n      <td>-2.2031</td>\n      <td>1.099933</td>\n      <td>2.921416</td>\n      <td>6.262498</td>\n      <td>10.886591</td>\n      <td>10.625673</td>\n      <td>21.984666</td>\n      <td>23.428932</td>\n    </tr>\n    <tr>\n      <th>3</th>\n      <td>Asian</td>\n      <td>0.0</td>\n      <td>-1.811705</td>\n      <td>0.107221</td>\n      <td>1.215061</td>\n      <td>1.843628</td>\n      <td>6.20196</td>\n      <td>9.42282</td>\n      <td>10.771867</td>\n      <td>13.03747</td>\n      <td>19.317992</td>\n      <td>20.755392</td>\n      <td>18.902707</td>\n    </tr>\n    <tr>\n      <th>4</th>\n      <td>Native Hawaiian and Other Pacific Islander</td>\n      <td>0.0</td>\n      <td>-9.301458</td>\n      <td>-7.641981</td>\n      <td>-10.271777</td>\n      <td>-7.82258</td>\n      <td>-3.064794</td>\n      <td>-1.681548</td>\n      <td>2.37283</td>\n      <td>1.868654</td>\n      <td>7.413868</td>\n      <td>6.69421</td>\n      <td>2.230425</td>\n    </tr>\n    <tr>\n      <th>5</th>\n      <td>Some other race</td>\n      <td>0.0</td>\n      <td>-5.742718</td>\n      <td>-4.506175</td>\n      <td>-3.66401</td>\n      <td>-1.542016</td>\n      <td>2.182015</td>\n      <td>6.462941</td>\n      <td>9.875732</td>\n      <td>11.262882</td>\n      <td>18.461176</td>\n      <td>21.39478</td>\n      <td>23.351061</td>\n    </tr>\n  </tbody>\n</table>\n</div>"
     },
     "execution_count": 20,
     "metadata": {},
     "output_type": "execute_result"
    }
   ],
   "source": [
    "percentage_change_income"
   ],
   "metadata": {
    "collapsed": false,
    "ExecuteTime": {
     "end_time": "2023-11-30T06:39:52.075400803Z",
     "start_time": "2023-11-30T06:39:52.069641687Z"
    }
   },
   "id": "eeea5752fc832838"
  },
  {
   "cell_type": "code",
   "execution_count": 21,
   "outputs": [],
   "source": [
    "percentage_change_income.to_csv('percentage_change_income.csv', index=False)"
   ],
   "metadata": {
    "collapsed": false,
    "ExecuteTime": {
     "end_time": "2023-11-30T06:39:59.491763545Z",
     "start_time": "2023-11-30T06:39:59.485392122Z"
    }
   },
   "id": "88df54b9902cbbdc"
  },
  {
   "cell_type": "markdown",
   "source": [
    "## Load population date"
   ],
   "metadata": {
    "collapsed": false
   },
   "id": "e7f1187831d08ee4"
  },
  {
   "cell_type": "code",
   "execution_count": 3,
   "outputs": [],
   "source": [
    "pop = pd.read_csv('population_races_over_years.csv')"
   ],
   "metadata": {
    "collapsed": false,
    "ExecuteTime": {
     "end_time": "2023-11-30T07:13:11.708175856Z",
     "start_time": "2023-11-30T07:13:11.704818786Z"
    }
   },
   "id": "c4a3bfbff4e2a02a"
  },
  {
   "cell_type": "code",
   "execution_count": 4,
   "outputs": [
    {
     "data": {
      "text/plain": "                             Label (Grouping)         2010         2011  \\\n0                                       White  236,475,201  238,197,491   \n1                   Black or African American   42,042,735   42,533,817   \n2           American Indian and Alaska Native    5,066,812    5,120,813   \n3                                       Asian   17,242,278   17,673,522   \n4  Native Hawaiian and Other Pacific Islander    1,167,053    1,186,153   \n5                             Some other race   16,534,492   16,396,503   \n\n          2012         2013         2014         2015         2016  \\\n0  239,645,013  240,924,897  242,169,652  243,479,179  243,538,566   \n1   43,140,238   43,624,267   44,171,261   44,655,257   45,133,880   \n2    5,226,034    5,252,044    5,396,560    5,431,402    5,586,703   \n3   18,326,450   18,913,544   19,658,736   20,416,808   20,901,780   \n4    1,250,274    1,226,149    1,270,272    1,314,433    1,366,322   \n5   16,232,503   16,474,381   16,703,187   17,051,509   18,049,903   \n\n          2017         2018         2019         2021         2022  \n0  244,691,364  245,860,228  246,234,076  241,836,150  241,650,046  \n1   45,789,188   46,261,485   46,713,850   47,234,227   47,859,760  \n2    5,631,945    5,710,410    5,665,200    8,750,904    8,551,272  \n3   21,646,070   22,137,269   22,371,683   23,545,238   24,207,047  \n4    1,407,096    1,468,239    1,438,818    1,541,118    1,631,578  \n5   18,346,638   18,146,776   18,214,244   53,868,002   54,089,348  ",
      "text/html": "<div>\n<style scoped>\n    .dataframe tbody tr th:only-of-type {\n        vertical-align: middle;\n    }\n\n    .dataframe tbody tr th {\n        vertical-align: top;\n    }\n\n    .dataframe thead th {\n        text-align: right;\n    }\n</style>\n<table border=\"1\" class=\"dataframe\">\n  <thead>\n    <tr style=\"text-align: right;\">\n      <th></th>\n      <th>Label (Grouping)</th>\n      <th>2010</th>\n      <th>2011</th>\n      <th>2012</th>\n      <th>2013</th>\n      <th>2014</th>\n      <th>2015</th>\n      <th>2016</th>\n      <th>2017</th>\n      <th>2018</th>\n      <th>2019</th>\n      <th>2021</th>\n      <th>2022</th>\n    </tr>\n  </thead>\n  <tbody>\n    <tr>\n      <th>0</th>\n      <td>White</td>\n      <td>236,475,201</td>\n      <td>238,197,491</td>\n      <td>239,645,013</td>\n      <td>240,924,897</td>\n      <td>242,169,652</td>\n      <td>243,479,179</td>\n      <td>243,538,566</td>\n      <td>244,691,364</td>\n      <td>245,860,228</td>\n      <td>246,234,076</td>\n      <td>241,836,150</td>\n      <td>241,650,046</td>\n    </tr>\n    <tr>\n      <th>1</th>\n      <td>Black or African American</td>\n      <td>42,042,735</td>\n      <td>42,533,817</td>\n      <td>43,140,238</td>\n      <td>43,624,267</td>\n      <td>44,171,261</td>\n      <td>44,655,257</td>\n      <td>45,133,880</td>\n      <td>45,789,188</td>\n      <td>46,261,485</td>\n      <td>46,713,850</td>\n      <td>47,234,227</td>\n      <td>47,859,760</td>\n    </tr>\n    <tr>\n      <th>2</th>\n      <td>American Indian and Alaska Native</td>\n      <td>5,066,812</td>\n      <td>5,120,813</td>\n      <td>5,226,034</td>\n      <td>5,252,044</td>\n      <td>5,396,560</td>\n      <td>5,431,402</td>\n      <td>5,586,703</td>\n      <td>5,631,945</td>\n      <td>5,710,410</td>\n      <td>5,665,200</td>\n      <td>8,750,904</td>\n      <td>8,551,272</td>\n    </tr>\n    <tr>\n      <th>3</th>\n      <td>Asian</td>\n      <td>17,242,278</td>\n      <td>17,673,522</td>\n      <td>18,326,450</td>\n      <td>18,913,544</td>\n      <td>19,658,736</td>\n      <td>20,416,808</td>\n      <td>20,901,780</td>\n      <td>21,646,070</td>\n      <td>22,137,269</td>\n      <td>22,371,683</td>\n      <td>23,545,238</td>\n      <td>24,207,047</td>\n    </tr>\n    <tr>\n      <th>4</th>\n      <td>Native Hawaiian and Other Pacific Islander</td>\n      <td>1,167,053</td>\n      <td>1,186,153</td>\n      <td>1,250,274</td>\n      <td>1,226,149</td>\n      <td>1,270,272</td>\n      <td>1,314,433</td>\n      <td>1,366,322</td>\n      <td>1,407,096</td>\n      <td>1,468,239</td>\n      <td>1,438,818</td>\n      <td>1,541,118</td>\n      <td>1,631,578</td>\n    </tr>\n    <tr>\n      <th>5</th>\n      <td>Some other race</td>\n      <td>16,534,492</td>\n      <td>16,396,503</td>\n      <td>16,232,503</td>\n      <td>16,474,381</td>\n      <td>16,703,187</td>\n      <td>17,051,509</td>\n      <td>18,049,903</td>\n      <td>18,346,638</td>\n      <td>18,146,776</td>\n      <td>18,214,244</td>\n      <td>53,868,002</td>\n      <td>54,089,348</td>\n    </tr>\n  </tbody>\n</table>\n</div>"
     },
     "execution_count": 4,
     "metadata": {},
     "output_type": "execute_result"
    }
   ],
   "source": [
    "pop"
   ],
   "metadata": {
    "collapsed": false,
    "ExecuteTime": {
     "end_time": "2023-11-30T07:13:12.391571464Z",
     "start_time": "2023-11-30T07:13:12.383390936Z"
    }
   },
   "id": "498f334140baec56"
  },
  {
   "cell_type": "code",
   "execution_count": 5,
   "outputs": [
    {
     "name": "stderr",
     "output_type": "stream",
     "text": [
      "/tmp/ipykernel_38594/3579697183.py:1: FutureWarning: DataFrame.applymap has been deprecated. Use DataFrame.map instead.\n",
      "  pop.iloc[:,1:] = pop.iloc[:,1:].applymap(lambda x: int(x.replace(',', '')))\n"
     ]
    }
   ],
   "source": [
    "pop.iloc[:,1:] = pop.iloc[:,1:].applymap(lambda x: int(x.replace(',', '')))"
   ],
   "metadata": {
    "collapsed": false,
    "ExecuteTime": {
     "end_time": "2023-11-30T07:13:13.876242249Z",
     "start_time": "2023-11-30T07:13:13.873823486Z"
    }
   },
   "id": "459db7927681e159"
  },
  {
   "cell_type": "code",
   "execution_count": 6,
   "outputs": [
    {
     "data": {
      "text/plain": "                             Label (Grouping)       2010       2011  \\\n0                                       White  236475201  238197491   \n1                   Black or African American   42042735   42533817   \n2           American Indian and Alaska Native    5066812    5120813   \n3                                       Asian   17242278   17673522   \n4  Native Hawaiian and Other Pacific Islander    1167053    1186153   \n5                             Some other race   16534492   16396503   \n\n        2012       2013       2014       2015       2016       2017  \\\n0  239645013  240924897  242169652  243479179  243538566  244691364   \n1   43140238   43624267   44171261   44655257   45133880   45789188   \n2    5226034    5252044    5396560    5431402    5586703    5631945   \n3   18326450   18913544   19658736   20416808   20901780   21646070   \n4    1250274    1226149    1270272    1314433    1366322    1407096   \n5   16232503   16474381   16703187   17051509   18049903   18346638   \n\n        2018       2019       2021       2022  \n0  245860228  246234076  241836150  241650046  \n1   46261485   46713850   47234227   47859760  \n2    5710410    5665200    8750904    8551272  \n3   22137269   22371683   23545238   24207047  \n4    1468239    1438818    1541118    1631578  \n5   18146776   18214244   53868002   54089348  ",
      "text/html": "<div>\n<style scoped>\n    .dataframe tbody tr th:only-of-type {\n        vertical-align: middle;\n    }\n\n    .dataframe tbody tr th {\n        vertical-align: top;\n    }\n\n    .dataframe thead th {\n        text-align: right;\n    }\n</style>\n<table border=\"1\" class=\"dataframe\">\n  <thead>\n    <tr style=\"text-align: right;\">\n      <th></th>\n      <th>Label (Grouping)</th>\n      <th>2010</th>\n      <th>2011</th>\n      <th>2012</th>\n      <th>2013</th>\n      <th>2014</th>\n      <th>2015</th>\n      <th>2016</th>\n      <th>2017</th>\n      <th>2018</th>\n      <th>2019</th>\n      <th>2021</th>\n      <th>2022</th>\n    </tr>\n  </thead>\n  <tbody>\n    <tr>\n      <th>0</th>\n      <td>White</td>\n      <td>236475201</td>\n      <td>238197491</td>\n      <td>239645013</td>\n      <td>240924897</td>\n      <td>242169652</td>\n      <td>243479179</td>\n      <td>243538566</td>\n      <td>244691364</td>\n      <td>245860228</td>\n      <td>246234076</td>\n      <td>241836150</td>\n      <td>241650046</td>\n    </tr>\n    <tr>\n      <th>1</th>\n      <td>Black or African American</td>\n      <td>42042735</td>\n      <td>42533817</td>\n      <td>43140238</td>\n      <td>43624267</td>\n      <td>44171261</td>\n      <td>44655257</td>\n      <td>45133880</td>\n      <td>45789188</td>\n      <td>46261485</td>\n      <td>46713850</td>\n      <td>47234227</td>\n      <td>47859760</td>\n    </tr>\n    <tr>\n      <th>2</th>\n      <td>American Indian and Alaska Native</td>\n      <td>5066812</td>\n      <td>5120813</td>\n      <td>5226034</td>\n      <td>5252044</td>\n      <td>5396560</td>\n      <td>5431402</td>\n      <td>5586703</td>\n      <td>5631945</td>\n      <td>5710410</td>\n      <td>5665200</td>\n      <td>8750904</td>\n      <td>8551272</td>\n    </tr>\n    <tr>\n      <th>3</th>\n      <td>Asian</td>\n      <td>17242278</td>\n      <td>17673522</td>\n      <td>18326450</td>\n      <td>18913544</td>\n      <td>19658736</td>\n      <td>20416808</td>\n      <td>20901780</td>\n      <td>21646070</td>\n      <td>22137269</td>\n      <td>22371683</td>\n      <td>23545238</td>\n      <td>24207047</td>\n    </tr>\n    <tr>\n      <th>4</th>\n      <td>Native Hawaiian and Other Pacific Islander</td>\n      <td>1167053</td>\n      <td>1186153</td>\n      <td>1250274</td>\n      <td>1226149</td>\n      <td>1270272</td>\n      <td>1314433</td>\n      <td>1366322</td>\n      <td>1407096</td>\n      <td>1468239</td>\n      <td>1438818</td>\n      <td>1541118</td>\n      <td>1631578</td>\n    </tr>\n    <tr>\n      <th>5</th>\n      <td>Some other race</td>\n      <td>16534492</td>\n      <td>16396503</td>\n      <td>16232503</td>\n      <td>16474381</td>\n      <td>16703187</td>\n      <td>17051509</td>\n      <td>18049903</td>\n      <td>18346638</td>\n      <td>18146776</td>\n      <td>18214244</td>\n      <td>53868002</td>\n      <td>54089348</td>\n    </tr>\n  </tbody>\n</table>\n</div>"
     },
     "execution_count": 6,
     "metadata": {},
     "output_type": "execute_result"
    }
   ],
   "source": [
    "pop"
   ],
   "metadata": {
    "collapsed": false,
    "ExecuteTime": {
     "end_time": "2023-11-30T07:13:16.312015852Z",
     "start_time": "2023-11-30T07:13:16.294053998Z"
    }
   },
   "id": "a98ee0ca8ce2554c"
  },
  {
   "cell_type": "code",
   "execution_count": 7,
   "outputs": [],
   "source": [
    "pop.to_csv('population_races_over_years_.csv')"
   ],
   "metadata": {
    "collapsed": false,
    "ExecuteTime": {
     "end_time": "2023-11-30T07:14:14.329659274Z",
     "start_time": "2023-11-30T07:14:14.260668535Z"
    }
   },
   "id": "c212d19b03e67f5a"
  },
  {
   "cell_type": "code",
   "execution_count": null,
   "outputs": [],
   "source": [],
   "metadata": {
    "collapsed": false
   },
   "id": "78cbc9fcf2bb53d5"
  }
 ],
 "metadata": {
  "kernelspec": {
   "display_name": "Python 3",
   "language": "python",
   "name": "python3"
  },
  "language_info": {
   "codemirror_mode": {
    "name": "ipython",
    "version": 2
   },
   "file_extension": ".py",
   "mimetype": "text/x-python",
   "name": "python",
   "nbconvert_exporter": "python",
   "pygments_lexer": "ipython2",
   "version": "2.7.6"
  }
 },
 "nbformat": 4,
 "nbformat_minor": 5
}
