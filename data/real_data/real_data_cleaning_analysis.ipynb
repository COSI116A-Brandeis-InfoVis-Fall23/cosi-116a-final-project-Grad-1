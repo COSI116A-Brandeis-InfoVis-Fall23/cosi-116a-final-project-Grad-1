{
 "cells": [
  {
   "cell_type": "code",
   "execution_count": 1,
   "id": "initial_id",
   "metadata": {
    "collapsed": true,
    "ExecuteTime": {
     "end_time": "2023-12-11T22:30:38.314267692Z",
     "start_time": "2023-12-11T22:30:38.206848093Z"
    }
   },
   "outputs": [],
   "source": [
    "import pandas as pd\n",
    "import os"
   ]
  },
  {
   "cell_type": "markdown",
   "source": [
    "# Load and Clean Income Data"
   ],
   "metadata": {
    "collapsed": false
   },
   "id": "1d4e6f74034b8869"
  },
  {
   "cell_type": "code",
   "execution_count": 2,
   "outputs": [],
   "source": [
    "def get_median_income(filename: str, df: pd.DataFrame):\n",
    "    col = df.iloc[3:9][['Label (Grouping)', 'United States!!Median income (dollars)!!Estimate']].reset_index(drop=True)\n",
    "    col.rename(columns={'United States!!Median income (dollars)!!Estimate': int(filename[7:11])}, inplace=True)\n",
    "    return col"
   ],
   "metadata": {
    "collapsed": false,
    "ExecuteTime": {
     "end_time": "2023-12-11T22:30:38.316768507Z",
     "start_time": "2023-12-11T22:30:38.315297210Z"
    }
   },
   "id": "d2ea8e32767dc007"
  },
  {
   "cell_type": "code",
   "execution_count": 3,
   "outputs": [],
   "source": [
    "def load_income_files(path: str):\n",
    "    df_list = []\n",
    "    files = os.listdir(path)\n",
    "    for file in files:\n",
    "        if file.endswith('.csv'):\n",
    "            file_path = os.path.join(path, file)\n",
    "            df = pd.read_csv(file_path, index_col=None)\n",
    "            reduced = get_median_income(file, df)\n",
    "            if not df_list:\n",
    "                df_list.append(reduced)\n",
    "            else:\n",
    "                df_list.append(reduced.drop('Label (Grouping)', axis=1))\n",
    "\n",
    "    return df_list"
   ],
   "metadata": {
    "collapsed": false,
    "ExecuteTime": {
     "end_time": "2023-12-11T22:30:38.341382512Z",
     "start_time": "2023-12-11T22:30:38.315382490Z"
    }
   },
   "id": "6a8093886ccd3ef1"
  },
  {
   "cell_type": "code",
   "execution_count": 4,
   "outputs": [],
   "source": [
    "dl = load_income_files('./S1903_2010-2022')"
   ],
   "metadata": {
    "collapsed": false,
    "ExecuteTime": {
     "end_time": "2023-12-11T22:30:38.357946496Z",
     "start_time": "2023-12-11T22:30:38.341370922Z"
    }
   },
   "id": "f347821a2e4fe7f6"
  },
  {
   "cell_type": "code",
   "execution_count": 5,
   "outputs": [
    {
     "data": {
      "text/plain": "                                 Label (Grouping)    2010     2022    2016  \\\n0                                           White  52,480   79,933  61,349   \n1                       Black or African American  33,578   51,374  38,555   \n2               American Indian and Alaska Native  35,062   58,082  39,719   \n3                                           Asian  67,022  106,954  80,720   \n4      Native Hawaiian and Other Pacific Islander  52,776   72,411  57,112   \n5                                 Some other race  38,230   63,290  44,798   \n\n     2014    2015    2012    2013    2018     2021    2011    2017    2019  \n0  57,355  59,698  54,729  55,867  65,902   74,932  53,444  63,704  69,823  \n1  35,481  36,544  33,764  34,815  41,511   46,774  33,223  40,232  43,862  \n2  37,227  38,530  35,310  36,641  44,772   53,149  35,192  41,882  45,476  \n3  74,105  77,368  70,644  72,472  87,243  100,572  67,885  83,456  93,759  \n4  52,815  55,607  51,322  50,591  61,911   69,973  49,378  60,734  66,464  \n5  40,865  42,461  38,439  39,346  48,983   57,671  37,172  47,219  53,097  ",
      "text/html": "<div>\n<style scoped>\n    .dataframe tbody tr th:only-of-type {\n        vertical-align: middle;\n    }\n\n    .dataframe tbody tr th {\n        vertical-align: top;\n    }\n\n    .dataframe thead th {\n        text-align: right;\n    }\n</style>\n<table border=\"1\" class=\"dataframe\">\n  <thead>\n    <tr style=\"text-align: right;\">\n      <th></th>\n      <th>Label (Grouping)</th>\n      <th>2010</th>\n      <th>2022</th>\n      <th>2016</th>\n      <th>2014</th>\n      <th>2015</th>\n      <th>2012</th>\n      <th>2013</th>\n      <th>2018</th>\n      <th>2021</th>\n      <th>2011</th>\n      <th>2017</th>\n      <th>2019</th>\n    </tr>\n  </thead>\n  <tbody>\n    <tr>\n      <th>0</th>\n      <td>White</td>\n      <td>52,480</td>\n      <td>79,933</td>\n      <td>61,349</td>\n      <td>57,355</td>\n      <td>59,698</td>\n      <td>54,729</td>\n      <td>55,867</td>\n      <td>65,902</td>\n      <td>74,932</td>\n      <td>53,444</td>\n      <td>63,704</td>\n      <td>69,823</td>\n    </tr>\n    <tr>\n      <th>1</th>\n      <td>Black or African American</td>\n      <td>33,578</td>\n      <td>51,374</td>\n      <td>38,555</td>\n      <td>35,481</td>\n      <td>36,544</td>\n      <td>33,764</td>\n      <td>34,815</td>\n      <td>41,511</td>\n      <td>46,774</td>\n      <td>33,223</td>\n      <td>40,232</td>\n      <td>43,862</td>\n    </tr>\n    <tr>\n      <th>2</th>\n      <td>American Indian and Alaska Native</td>\n      <td>35,062</td>\n      <td>58,082</td>\n      <td>39,719</td>\n      <td>37,227</td>\n      <td>38,530</td>\n      <td>35,310</td>\n      <td>36,641</td>\n      <td>44,772</td>\n      <td>53,149</td>\n      <td>35,192</td>\n      <td>41,882</td>\n      <td>45,476</td>\n    </tr>\n    <tr>\n      <th>3</th>\n      <td>Asian</td>\n      <td>67,022</td>\n      <td>106,954</td>\n      <td>80,720</td>\n      <td>74,105</td>\n      <td>77,368</td>\n      <td>70,644</td>\n      <td>72,472</td>\n      <td>87,243</td>\n      <td>100,572</td>\n      <td>67,885</td>\n      <td>83,456</td>\n      <td>93,759</td>\n    </tr>\n    <tr>\n      <th>4</th>\n      <td>Native Hawaiian and Other Pacific Islander</td>\n      <td>52,776</td>\n      <td>72,411</td>\n      <td>57,112</td>\n      <td>52,815</td>\n      <td>55,607</td>\n      <td>51,322</td>\n      <td>50,591</td>\n      <td>61,911</td>\n      <td>69,973</td>\n      <td>49,378</td>\n      <td>60,734</td>\n      <td>66,464</td>\n    </tr>\n    <tr>\n      <th>5</th>\n      <td>Some other race</td>\n      <td>38,230</td>\n      <td>63,290</td>\n      <td>44,798</td>\n      <td>40,865</td>\n      <td>42,461</td>\n      <td>38,439</td>\n      <td>39,346</td>\n      <td>48,983</td>\n      <td>57,671</td>\n      <td>37,172</td>\n      <td>47,219</td>\n      <td>53,097</td>\n    </tr>\n  </tbody>\n</table>\n</div>"
     },
     "execution_count": 5,
     "metadata": {},
     "output_type": "execute_result"
    }
   ],
   "source": [
    "output = pd.concat(dl, axis=1)\n",
    "output"
   ],
   "metadata": {
    "collapsed": false,
    "ExecuteTime": {
     "end_time": "2023-12-11T22:30:38.403408104Z",
     "start_time": "2023-12-11T22:30:38.359135703Z"
    }
   },
   "id": "6e44d40dca692570"
  },
  {
   "cell_type": "code",
   "execution_count": 6,
   "outputs": [
    {
     "data": {
      "text/plain": "                                 Label (Grouping)    2010    2011    2012  \\\n0                                           White  52,480  53,444  54,729   \n1                       Black or African American  33,578  33,223  33,764   \n2               American Indian and Alaska Native  35,062  35,192  35,310   \n3                                           Asian  67,022  67,885  70,644   \n4      Native Hawaiian and Other Pacific Islander  52,776  49,378  51,322   \n5                                 Some other race  38,230  37,172  38,439   \n\n     2013    2014    2015    2016    2017    2018    2019     2021     2022  \n0  55,867  57,355  59,698  61,349  63,704  65,902  69,823   74,932   79,933  \n1  34,815  35,481  36,544  38,555  40,232  41,511  43,862   46,774   51,374  \n2  36,641  37,227  38,530  39,719  41,882  44,772  45,476   53,149   58,082  \n3  72,472  74,105  77,368  80,720  83,456  87,243  93,759  100,572  106,954  \n4  50,591  52,815  55,607  57,112  60,734  61,911  66,464   69,973   72,411  \n5  39,346  40,865  42,461  44,798  47,219  48,983  53,097   57,671   63,290  ",
      "text/html": "<div>\n<style scoped>\n    .dataframe tbody tr th:only-of-type {\n        vertical-align: middle;\n    }\n\n    .dataframe tbody tr th {\n        vertical-align: top;\n    }\n\n    .dataframe thead th {\n        text-align: right;\n    }\n</style>\n<table border=\"1\" class=\"dataframe\">\n  <thead>\n    <tr style=\"text-align: right;\">\n      <th></th>\n      <th>Label (Grouping)</th>\n      <th>2010</th>\n      <th>2011</th>\n      <th>2012</th>\n      <th>2013</th>\n      <th>2014</th>\n      <th>2015</th>\n      <th>2016</th>\n      <th>2017</th>\n      <th>2018</th>\n      <th>2019</th>\n      <th>2021</th>\n      <th>2022</th>\n    </tr>\n  </thead>\n  <tbody>\n    <tr>\n      <th>0</th>\n      <td>White</td>\n      <td>52,480</td>\n      <td>53,444</td>\n      <td>54,729</td>\n      <td>55,867</td>\n      <td>57,355</td>\n      <td>59,698</td>\n      <td>61,349</td>\n      <td>63,704</td>\n      <td>65,902</td>\n      <td>69,823</td>\n      <td>74,932</td>\n      <td>79,933</td>\n    </tr>\n    <tr>\n      <th>1</th>\n      <td>Black or African American</td>\n      <td>33,578</td>\n      <td>33,223</td>\n      <td>33,764</td>\n      <td>34,815</td>\n      <td>35,481</td>\n      <td>36,544</td>\n      <td>38,555</td>\n      <td>40,232</td>\n      <td>41,511</td>\n      <td>43,862</td>\n      <td>46,774</td>\n      <td>51,374</td>\n    </tr>\n    <tr>\n      <th>2</th>\n      <td>American Indian and Alaska Native</td>\n      <td>35,062</td>\n      <td>35,192</td>\n      <td>35,310</td>\n      <td>36,641</td>\n      <td>37,227</td>\n      <td>38,530</td>\n      <td>39,719</td>\n      <td>41,882</td>\n      <td>44,772</td>\n      <td>45,476</td>\n      <td>53,149</td>\n      <td>58,082</td>\n    </tr>\n    <tr>\n      <th>3</th>\n      <td>Asian</td>\n      <td>67,022</td>\n      <td>67,885</td>\n      <td>70,644</td>\n      <td>72,472</td>\n      <td>74,105</td>\n      <td>77,368</td>\n      <td>80,720</td>\n      <td>83,456</td>\n      <td>87,243</td>\n      <td>93,759</td>\n      <td>100,572</td>\n      <td>106,954</td>\n    </tr>\n    <tr>\n      <th>4</th>\n      <td>Native Hawaiian and Other Pacific Islander</td>\n      <td>52,776</td>\n      <td>49,378</td>\n      <td>51,322</td>\n      <td>50,591</td>\n      <td>52,815</td>\n      <td>55,607</td>\n      <td>57,112</td>\n      <td>60,734</td>\n      <td>61,911</td>\n      <td>66,464</td>\n      <td>69,973</td>\n      <td>72,411</td>\n    </tr>\n    <tr>\n      <th>5</th>\n      <td>Some other race</td>\n      <td>38,230</td>\n      <td>37,172</td>\n      <td>38,439</td>\n      <td>39,346</td>\n      <td>40,865</td>\n      <td>42,461</td>\n      <td>44,798</td>\n      <td>47,219</td>\n      <td>48,983</td>\n      <td>53,097</td>\n      <td>57,671</td>\n      <td>63,290</td>\n    </tr>\n  </tbody>\n</table>\n</div>"
     },
     "execution_count": 6,
     "metadata": {},
     "output_type": "execute_result"
    }
   ],
   "source": [
    "output = pd.concat([output.iloc[:,0], output[sorted(output.iloc[:, 1:].columns, key=int)]], axis=1)\n",
    "output"
   ],
   "metadata": {
    "collapsed": false,
    "ExecuteTime": {
     "end_time": "2023-12-11T22:30:38.404581021Z",
     "start_time": "2023-12-11T22:30:38.402969925Z"
    }
   },
   "id": "5c41a64dacaf102d"
  },
  {
   "cell_type": "code",
   "execution_count": 7,
   "outputs": [
    {
     "data": {
      "text/plain": "                                 Label (Grouping)   2010   2011   2012   2013  \\\n0                                           White  52480  53444  54729  55867   \n1                       Black or African American  33578  33223  33764  34815   \n2               American Indian and Alaska Native  35062  35192  35310  36641   \n3                                           Asian  67022  67885  70644  72472   \n4      Native Hawaiian and Other Pacific Islander  52776  49378  51322  50591   \n5                                 Some other race  38230  37172  38439  39346   \n\n    2014   2015   2016   2017   2018   2019    2021    2022  \n0  57355  59698  61349  63704  65902  69823   74932   79933  \n1  35481  36544  38555  40232  41511  43862   46774   51374  \n2  37227  38530  39719  41882  44772  45476   53149   58082  \n3  74105  77368  80720  83456  87243  93759  100572  106954  \n4  52815  55607  57112  60734  61911  66464   69973   72411  \n5  40865  42461  44798  47219  48983  53097   57671   63290  ",
      "text/html": "<div>\n<style scoped>\n    .dataframe tbody tr th:only-of-type {\n        vertical-align: middle;\n    }\n\n    .dataframe tbody tr th {\n        vertical-align: top;\n    }\n\n    .dataframe thead th {\n        text-align: right;\n    }\n</style>\n<table border=\"1\" class=\"dataframe\">\n  <thead>\n    <tr style=\"text-align: right;\">\n      <th></th>\n      <th>Label (Grouping)</th>\n      <th>2010</th>\n      <th>2011</th>\n      <th>2012</th>\n      <th>2013</th>\n      <th>2014</th>\n      <th>2015</th>\n      <th>2016</th>\n      <th>2017</th>\n      <th>2018</th>\n      <th>2019</th>\n      <th>2021</th>\n      <th>2022</th>\n    </tr>\n  </thead>\n  <tbody>\n    <tr>\n      <th>0</th>\n      <td>White</td>\n      <td>52480</td>\n      <td>53444</td>\n      <td>54729</td>\n      <td>55867</td>\n      <td>57355</td>\n      <td>59698</td>\n      <td>61349</td>\n      <td>63704</td>\n      <td>65902</td>\n      <td>69823</td>\n      <td>74932</td>\n      <td>79933</td>\n    </tr>\n    <tr>\n      <th>1</th>\n      <td>Black or African American</td>\n      <td>33578</td>\n      <td>33223</td>\n      <td>33764</td>\n      <td>34815</td>\n      <td>35481</td>\n      <td>36544</td>\n      <td>38555</td>\n      <td>40232</td>\n      <td>41511</td>\n      <td>43862</td>\n      <td>46774</td>\n      <td>51374</td>\n    </tr>\n    <tr>\n      <th>2</th>\n      <td>American Indian and Alaska Native</td>\n      <td>35062</td>\n      <td>35192</td>\n      <td>35310</td>\n      <td>36641</td>\n      <td>37227</td>\n      <td>38530</td>\n      <td>39719</td>\n      <td>41882</td>\n      <td>44772</td>\n      <td>45476</td>\n      <td>53149</td>\n      <td>58082</td>\n    </tr>\n    <tr>\n      <th>3</th>\n      <td>Asian</td>\n      <td>67022</td>\n      <td>67885</td>\n      <td>70644</td>\n      <td>72472</td>\n      <td>74105</td>\n      <td>77368</td>\n      <td>80720</td>\n      <td>83456</td>\n      <td>87243</td>\n      <td>93759</td>\n      <td>100572</td>\n      <td>106954</td>\n    </tr>\n    <tr>\n      <th>4</th>\n      <td>Native Hawaiian and Other Pacific Islander</td>\n      <td>52776</td>\n      <td>49378</td>\n      <td>51322</td>\n      <td>50591</td>\n      <td>52815</td>\n      <td>55607</td>\n      <td>57112</td>\n      <td>60734</td>\n      <td>61911</td>\n      <td>66464</td>\n      <td>69973</td>\n      <td>72411</td>\n    </tr>\n    <tr>\n      <th>5</th>\n      <td>Some other race</td>\n      <td>38230</td>\n      <td>37172</td>\n      <td>38439</td>\n      <td>39346</td>\n      <td>40865</td>\n      <td>42461</td>\n      <td>44798</td>\n      <td>47219</td>\n      <td>48983</td>\n      <td>53097</td>\n      <td>57671</td>\n      <td>63290</td>\n    </tr>\n  </tbody>\n</table>\n</div>"
     },
     "execution_count": 7,
     "metadata": {},
     "output_type": "execute_result"
    }
   ],
   "source": [
    "output.iloc[:, 1:] = output.iloc[:,1:].map(lambda x: int(x.replace(',', '')))\n",
    "output"
   ],
   "metadata": {
    "collapsed": false,
    "ExecuteTime": {
     "end_time": "2023-12-11T22:30:38.405366620Z",
     "start_time": "2023-12-11T22:30:38.403080834Z"
    }
   },
   "id": "23c3152d316153f4"
  },
  {
   "cell_type": "code",
   "execution_count": 8,
   "outputs": [],
   "source": [
    "output.to_csv('median_income_over_years.csv', index=False)"
   ],
   "metadata": {
    "collapsed": false,
    "ExecuteTime": {
     "end_time": "2023-12-11T22:30:38.405808339Z",
     "start_time": "2023-12-11T22:30:38.403222874Z"
    }
   },
   "id": "2454f38485f752fc"
  },
  {
   "cell_type": "code",
   "execution_count": 8,
   "outputs": [],
   "source": [],
   "metadata": {
    "collapsed": false,
    "ExecuteTime": {
     "end_time": "2023-12-11T22:30:38.406249838Z",
     "start_time": "2023-12-11T22:30:38.403271174Z"
    }
   },
   "id": "67a71f983894fb92"
  },
  {
   "cell_type": "markdown",
   "source": [
    "# Load and Prepare CPI-u Data"
   ],
   "metadata": {
    "collapsed": false
   },
   "id": "b4625db179d81831"
  },
  {
   "cell_type": "code",
   "execution_count": 9,
   "outputs": [
    {
     "name": "stderr",
     "output_type": "stream",
     "text": [
      "/home/yao/miniconda3/envs/sci/lib/python3.10/site-packages/openpyxl/styles/stylesheet.py:226: UserWarning: Workbook contains no default style, apply openpyxl's default\n",
      "  warn(\"Workbook contains no default style, apply openpyxl's default\")\n"
     ]
    },
    {
     "data": {
      "text/plain": "   Consumer Price Index for All Urban Consumers (CPI-U)  \\\n0                                 Original Data Value     \n1                                                 NaN     \n2                                          Series Id:     \n3                             Not Seasonally Adjusted     \n4                                       Series Title:     \n5                                               Area:     \n6                                               Item:     \n7                                        Base Period:     \n8                                              Years:     \n9                                                 NaN     \n10                                               Year     \n11                                               2010     \n12                                               2011     \n13                                               2012     \n14                                               2013     \n15                                               2014     \n16                                               2015     \n17                                               2016     \n18                                               2017     \n19                                               2018     \n20                                               2019     \n21                                               2020     \n22                                               2021     \n23                                               2022     \n\n                                           Unnamed: 1 Unnamed: 2 Unnamed: 3  \\\n0                                                 NaN        NaN        NaN   \n1                                                 NaN        NaN        NaN   \n2                                         CUUR0000SA0        NaN        NaN   \n3                                                 NaN        NaN        NaN   \n4   All items in U.S. city average, all urban cons...        NaN        NaN   \n5                                   U.S. city average        NaN        NaN   \n6                                           All items        NaN        NaN   \n7                                         1982-84=100        NaN        NaN   \n8                                        2010 to 2022        NaN        NaN   \n9                                                 NaN        NaN        NaN   \n10                                                Jan        Feb        Mar   \n11                                            216.687    216.741    217.631   \n12                                            220.223    221.309    223.467   \n13                                            226.665    227.663    229.392   \n14                                             230.28    232.166    232.773   \n15                                            233.916    234.781    236.293   \n16                                            233.707    234.722    236.119   \n17                                            236.916    237.111    238.132   \n18                                            242.839    243.603    243.801   \n19                                            247.867    248.991    249.554   \n20                                            251.712    252.776    254.202   \n21                                            257.971    258.678    258.115   \n22                                            261.582    263.014    264.877   \n23                                            281.148    283.716    287.504   \n\n   Unnamed: 4 Unnamed: 5 Unnamed: 6 Unnamed: 7 Unnamed: 8 Unnamed: 9  \\\n0         NaN        NaN        NaN        NaN        NaN        NaN   \n1         NaN        NaN        NaN        NaN        NaN        NaN   \n2         NaN        NaN        NaN        NaN        NaN        NaN   \n3         NaN        NaN        NaN        NaN        NaN        NaN   \n4         NaN        NaN        NaN        NaN        NaN        NaN   \n5         NaN        NaN        NaN        NaN        NaN        NaN   \n6         NaN        NaN        NaN        NaN        NaN        NaN   \n7         NaN        NaN        NaN        NaN        NaN        NaN   \n8         NaN        NaN        NaN        NaN        NaN        NaN   \n9         NaN        NaN        NaN        NaN        NaN        NaN   \n10        Apr        May        Jun        Jul        Aug        Sep   \n11    218.009    218.178    217.965    218.011    218.312    218.439   \n12    224.906    225.964    225.722    225.922    226.545    226.889   \n13    230.085    229.815    229.478    229.104    230.379    231.407   \n14    232.531    232.945    233.504    233.596    233.877    234.149   \n15    237.072      237.9    238.343     238.25    237.852    238.031   \n16    236.599    237.805    238.638    238.654    238.316    237.945   \n17    239.261    240.229    241.018    240.628    240.849    241.428   \n18    244.524    244.733    244.955    244.786    245.519    246.819   \n19    250.546    251.588    251.989    252.006    252.146    252.439   \n20    255.548    256.092    256.143    256.571    256.558    256.759   \n21    256.389    256.394    257.797    259.101    259.918     260.28   \n22    267.054    269.195    271.696    273.003    273.567     274.31   \n23    289.109    292.296    296.311    296.276    296.171    296.808   \n\n   Unnamed: 10 Unnamed: 11 Unnamed: 12 Unnamed: 13 Unnamed: 14 Unnamed: 15  \n0          NaN         NaN         NaN         NaN         NaN         NaN  \n1          NaN         NaN         NaN         NaN         NaN         NaN  \n2          NaN         NaN         NaN         NaN         NaN         NaN  \n3          NaN         NaN         NaN         NaN         NaN         NaN  \n4          NaN         NaN         NaN         NaN         NaN         NaN  \n5          NaN         NaN         NaN         NaN         NaN         NaN  \n6          NaN         NaN         NaN         NaN         NaN         NaN  \n7          NaN         NaN         NaN         NaN         NaN         NaN  \n8          NaN         NaN         NaN         NaN         NaN         NaN  \n9          NaN         NaN         NaN         NaN         NaN         NaN  \n10         Oct         Nov         Dec      Annual       HALF1       HALF2  \n11     218.711     218.803     219.179     218.056     217.535     218.576  \n12     226.421      226.23     225.672     224.939     223.598      226.28  \n13     231.317     230.221     229.601     229.594      228.85     230.338  \n14     233.546     233.069     233.049     232.957     232.366     233.548  \n15     237.433     236.151     234.812     236.736     236.384     237.088  \n16     237.838     237.336     236.525     237.017     236.265     237.769  \n17     241.729     241.353     241.432     240.007     238.778     241.237  \n18     246.663     246.669     246.524      245.12     244.076     246.163  \n19     252.885     252.038     251.233     251.107     250.089     252.125  \n20     257.346     257.208     256.974     255.657     254.412     256.903  \n21     260.388     260.229     260.474     258.811     257.557     260.065  \n22     276.589     277.948     278.802      270.97     266.236     275.703  \n23     298.012     297.711     296.797     292.655     288.347     296.963  ",
      "text/html": "<div>\n<style scoped>\n    .dataframe tbody tr th:only-of-type {\n        vertical-align: middle;\n    }\n\n    .dataframe tbody tr th {\n        vertical-align: top;\n    }\n\n    .dataframe thead th {\n        text-align: right;\n    }\n</style>\n<table border=\"1\" class=\"dataframe\">\n  <thead>\n    <tr style=\"text-align: right;\">\n      <th></th>\n      <th>Consumer Price Index for All Urban Consumers (CPI-U)</th>\n      <th>Unnamed: 1</th>\n      <th>Unnamed: 2</th>\n      <th>Unnamed: 3</th>\n      <th>Unnamed: 4</th>\n      <th>Unnamed: 5</th>\n      <th>Unnamed: 6</th>\n      <th>Unnamed: 7</th>\n      <th>Unnamed: 8</th>\n      <th>Unnamed: 9</th>\n      <th>Unnamed: 10</th>\n      <th>Unnamed: 11</th>\n      <th>Unnamed: 12</th>\n      <th>Unnamed: 13</th>\n      <th>Unnamed: 14</th>\n      <th>Unnamed: 15</th>\n    </tr>\n  </thead>\n  <tbody>\n    <tr>\n      <th>0</th>\n      <td>Original Data Value</td>\n      <td>NaN</td>\n      <td>NaN</td>\n      <td>NaN</td>\n      <td>NaN</td>\n      <td>NaN</td>\n      <td>NaN</td>\n      <td>NaN</td>\n      <td>NaN</td>\n      <td>NaN</td>\n      <td>NaN</td>\n      <td>NaN</td>\n      <td>NaN</td>\n      <td>NaN</td>\n      <td>NaN</td>\n      <td>NaN</td>\n    </tr>\n    <tr>\n      <th>1</th>\n      <td>NaN</td>\n      <td>NaN</td>\n      <td>NaN</td>\n      <td>NaN</td>\n      <td>NaN</td>\n      <td>NaN</td>\n      <td>NaN</td>\n      <td>NaN</td>\n      <td>NaN</td>\n      <td>NaN</td>\n      <td>NaN</td>\n      <td>NaN</td>\n      <td>NaN</td>\n      <td>NaN</td>\n      <td>NaN</td>\n      <td>NaN</td>\n    </tr>\n    <tr>\n      <th>2</th>\n      <td>Series Id:</td>\n      <td>CUUR0000SA0</td>\n      <td>NaN</td>\n      <td>NaN</td>\n      <td>NaN</td>\n      <td>NaN</td>\n      <td>NaN</td>\n      <td>NaN</td>\n      <td>NaN</td>\n      <td>NaN</td>\n      <td>NaN</td>\n      <td>NaN</td>\n      <td>NaN</td>\n      <td>NaN</td>\n      <td>NaN</td>\n      <td>NaN</td>\n    </tr>\n    <tr>\n      <th>3</th>\n      <td>Not Seasonally Adjusted</td>\n      <td>NaN</td>\n      <td>NaN</td>\n      <td>NaN</td>\n      <td>NaN</td>\n      <td>NaN</td>\n      <td>NaN</td>\n      <td>NaN</td>\n      <td>NaN</td>\n      <td>NaN</td>\n      <td>NaN</td>\n      <td>NaN</td>\n      <td>NaN</td>\n      <td>NaN</td>\n      <td>NaN</td>\n      <td>NaN</td>\n    </tr>\n    <tr>\n      <th>4</th>\n      <td>Series Title:</td>\n      <td>All items in U.S. city average, all urban cons...</td>\n      <td>NaN</td>\n      <td>NaN</td>\n      <td>NaN</td>\n      <td>NaN</td>\n      <td>NaN</td>\n      <td>NaN</td>\n      <td>NaN</td>\n      <td>NaN</td>\n      <td>NaN</td>\n      <td>NaN</td>\n      <td>NaN</td>\n      <td>NaN</td>\n      <td>NaN</td>\n      <td>NaN</td>\n    </tr>\n    <tr>\n      <th>5</th>\n      <td>Area:</td>\n      <td>U.S. city average</td>\n      <td>NaN</td>\n      <td>NaN</td>\n      <td>NaN</td>\n      <td>NaN</td>\n      <td>NaN</td>\n      <td>NaN</td>\n      <td>NaN</td>\n      <td>NaN</td>\n      <td>NaN</td>\n      <td>NaN</td>\n      <td>NaN</td>\n      <td>NaN</td>\n      <td>NaN</td>\n      <td>NaN</td>\n    </tr>\n    <tr>\n      <th>6</th>\n      <td>Item:</td>\n      <td>All items</td>\n      <td>NaN</td>\n      <td>NaN</td>\n      <td>NaN</td>\n      <td>NaN</td>\n      <td>NaN</td>\n      <td>NaN</td>\n      <td>NaN</td>\n      <td>NaN</td>\n      <td>NaN</td>\n      <td>NaN</td>\n      <td>NaN</td>\n      <td>NaN</td>\n      <td>NaN</td>\n      <td>NaN</td>\n    </tr>\n    <tr>\n      <th>7</th>\n      <td>Base Period:</td>\n      <td>1982-84=100</td>\n      <td>NaN</td>\n      <td>NaN</td>\n      <td>NaN</td>\n      <td>NaN</td>\n      <td>NaN</td>\n      <td>NaN</td>\n      <td>NaN</td>\n      <td>NaN</td>\n      <td>NaN</td>\n      <td>NaN</td>\n      <td>NaN</td>\n      <td>NaN</td>\n      <td>NaN</td>\n      <td>NaN</td>\n    </tr>\n    <tr>\n      <th>8</th>\n      <td>Years:</td>\n      <td>2010 to 2022</td>\n      <td>NaN</td>\n      <td>NaN</td>\n      <td>NaN</td>\n      <td>NaN</td>\n      <td>NaN</td>\n      <td>NaN</td>\n      <td>NaN</td>\n      <td>NaN</td>\n      <td>NaN</td>\n      <td>NaN</td>\n      <td>NaN</td>\n      <td>NaN</td>\n      <td>NaN</td>\n      <td>NaN</td>\n    </tr>\n    <tr>\n      <th>9</th>\n      <td>NaN</td>\n      <td>NaN</td>\n      <td>NaN</td>\n      <td>NaN</td>\n      <td>NaN</td>\n      <td>NaN</td>\n      <td>NaN</td>\n      <td>NaN</td>\n      <td>NaN</td>\n      <td>NaN</td>\n      <td>NaN</td>\n      <td>NaN</td>\n      <td>NaN</td>\n      <td>NaN</td>\n      <td>NaN</td>\n      <td>NaN</td>\n    </tr>\n    <tr>\n      <th>10</th>\n      <td>Year</td>\n      <td>Jan</td>\n      <td>Feb</td>\n      <td>Mar</td>\n      <td>Apr</td>\n      <td>May</td>\n      <td>Jun</td>\n      <td>Jul</td>\n      <td>Aug</td>\n      <td>Sep</td>\n      <td>Oct</td>\n      <td>Nov</td>\n      <td>Dec</td>\n      <td>Annual</td>\n      <td>HALF1</td>\n      <td>HALF2</td>\n    </tr>\n    <tr>\n      <th>11</th>\n      <td>2010</td>\n      <td>216.687</td>\n      <td>216.741</td>\n      <td>217.631</td>\n      <td>218.009</td>\n      <td>218.178</td>\n      <td>217.965</td>\n      <td>218.011</td>\n      <td>218.312</td>\n      <td>218.439</td>\n      <td>218.711</td>\n      <td>218.803</td>\n      <td>219.179</td>\n      <td>218.056</td>\n      <td>217.535</td>\n      <td>218.576</td>\n    </tr>\n    <tr>\n      <th>12</th>\n      <td>2011</td>\n      <td>220.223</td>\n      <td>221.309</td>\n      <td>223.467</td>\n      <td>224.906</td>\n      <td>225.964</td>\n      <td>225.722</td>\n      <td>225.922</td>\n      <td>226.545</td>\n      <td>226.889</td>\n      <td>226.421</td>\n      <td>226.23</td>\n      <td>225.672</td>\n      <td>224.939</td>\n      <td>223.598</td>\n      <td>226.28</td>\n    </tr>\n    <tr>\n      <th>13</th>\n      <td>2012</td>\n      <td>226.665</td>\n      <td>227.663</td>\n      <td>229.392</td>\n      <td>230.085</td>\n      <td>229.815</td>\n      <td>229.478</td>\n      <td>229.104</td>\n      <td>230.379</td>\n      <td>231.407</td>\n      <td>231.317</td>\n      <td>230.221</td>\n      <td>229.601</td>\n      <td>229.594</td>\n      <td>228.85</td>\n      <td>230.338</td>\n    </tr>\n    <tr>\n      <th>14</th>\n      <td>2013</td>\n      <td>230.28</td>\n      <td>232.166</td>\n      <td>232.773</td>\n      <td>232.531</td>\n      <td>232.945</td>\n      <td>233.504</td>\n      <td>233.596</td>\n      <td>233.877</td>\n      <td>234.149</td>\n      <td>233.546</td>\n      <td>233.069</td>\n      <td>233.049</td>\n      <td>232.957</td>\n      <td>232.366</td>\n      <td>233.548</td>\n    </tr>\n    <tr>\n      <th>15</th>\n      <td>2014</td>\n      <td>233.916</td>\n      <td>234.781</td>\n      <td>236.293</td>\n      <td>237.072</td>\n      <td>237.9</td>\n      <td>238.343</td>\n      <td>238.25</td>\n      <td>237.852</td>\n      <td>238.031</td>\n      <td>237.433</td>\n      <td>236.151</td>\n      <td>234.812</td>\n      <td>236.736</td>\n      <td>236.384</td>\n      <td>237.088</td>\n    </tr>\n    <tr>\n      <th>16</th>\n      <td>2015</td>\n      <td>233.707</td>\n      <td>234.722</td>\n      <td>236.119</td>\n      <td>236.599</td>\n      <td>237.805</td>\n      <td>238.638</td>\n      <td>238.654</td>\n      <td>238.316</td>\n      <td>237.945</td>\n      <td>237.838</td>\n      <td>237.336</td>\n      <td>236.525</td>\n      <td>237.017</td>\n      <td>236.265</td>\n      <td>237.769</td>\n    </tr>\n    <tr>\n      <th>17</th>\n      <td>2016</td>\n      <td>236.916</td>\n      <td>237.111</td>\n      <td>238.132</td>\n      <td>239.261</td>\n      <td>240.229</td>\n      <td>241.018</td>\n      <td>240.628</td>\n      <td>240.849</td>\n      <td>241.428</td>\n      <td>241.729</td>\n      <td>241.353</td>\n      <td>241.432</td>\n      <td>240.007</td>\n      <td>238.778</td>\n      <td>241.237</td>\n    </tr>\n    <tr>\n      <th>18</th>\n      <td>2017</td>\n      <td>242.839</td>\n      <td>243.603</td>\n      <td>243.801</td>\n      <td>244.524</td>\n      <td>244.733</td>\n      <td>244.955</td>\n      <td>244.786</td>\n      <td>245.519</td>\n      <td>246.819</td>\n      <td>246.663</td>\n      <td>246.669</td>\n      <td>246.524</td>\n      <td>245.12</td>\n      <td>244.076</td>\n      <td>246.163</td>\n    </tr>\n    <tr>\n      <th>19</th>\n      <td>2018</td>\n      <td>247.867</td>\n      <td>248.991</td>\n      <td>249.554</td>\n      <td>250.546</td>\n      <td>251.588</td>\n      <td>251.989</td>\n      <td>252.006</td>\n      <td>252.146</td>\n      <td>252.439</td>\n      <td>252.885</td>\n      <td>252.038</td>\n      <td>251.233</td>\n      <td>251.107</td>\n      <td>250.089</td>\n      <td>252.125</td>\n    </tr>\n    <tr>\n      <th>20</th>\n      <td>2019</td>\n      <td>251.712</td>\n      <td>252.776</td>\n      <td>254.202</td>\n      <td>255.548</td>\n      <td>256.092</td>\n      <td>256.143</td>\n      <td>256.571</td>\n      <td>256.558</td>\n      <td>256.759</td>\n      <td>257.346</td>\n      <td>257.208</td>\n      <td>256.974</td>\n      <td>255.657</td>\n      <td>254.412</td>\n      <td>256.903</td>\n    </tr>\n    <tr>\n      <th>21</th>\n      <td>2020</td>\n      <td>257.971</td>\n      <td>258.678</td>\n      <td>258.115</td>\n      <td>256.389</td>\n      <td>256.394</td>\n      <td>257.797</td>\n      <td>259.101</td>\n      <td>259.918</td>\n      <td>260.28</td>\n      <td>260.388</td>\n      <td>260.229</td>\n      <td>260.474</td>\n      <td>258.811</td>\n      <td>257.557</td>\n      <td>260.065</td>\n    </tr>\n    <tr>\n      <th>22</th>\n      <td>2021</td>\n      <td>261.582</td>\n      <td>263.014</td>\n      <td>264.877</td>\n      <td>267.054</td>\n      <td>269.195</td>\n      <td>271.696</td>\n      <td>273.003</td>\n      <td>273.567</td>\n      <td>274.31</td>\n      <td>276.589</td>\n      <td>277.948</td>\n      <td>278.802</td>\n      <td>270.97</td>\n      <td>266.236</td>\n      <td>275.703</td>\n    </tr>\n    <tr>\n      <th>23</th>\n      <td>2022</td>\n      <td>281.148</td>\n      <td>283.716</td>\n      <td>287.504</td>\n      <td>289.109</td>\n      <td>292.296</td>\n      <td>296.311</td>\n      <td>296.276</td>\n      <td>296.171</td>\n      <td>296.808</td>\n      <td>298.012</td>\n      <td>297.711</td>\n      <td>296.797</td>\n      <td>292.655</td>\n      <td>288.347</td>\n      <td>296.963</td>\n    </tr>\n  </tbody>\n</table>\n</div>"
     },
     "execution_count": 9,
     "metadata": {},
     "output_type": "execute_result"
    }
   ],
   "source": [
    "# https://data.bls.gov/pdq/SurveyOutputServlet\n",
    "\n",
    "cpi = pd.read_excel('SeriesReport-20231130004030_af192c.xlsx')\n",
    "cpi"
   ],
   "metadata": {
    "collapsed": false,
    "ExecuteTime": {
     "end_time": "2023-12-11T22:30:38.512383872Z",
     "start_time": "2023-12-11T22:30:38.403313804Z"
    }
   },
   "id": "a7374d0b65d525aa"
  },
  {
   "cell_type": "code",
   "execution_count": 10,
   "outputs": [
    {
     "data": {
      "text/plain": "   Consumer Price Index for All Urban Consumers (CPI-U) Unnamed: 13\n0                                                Year        Annual\n1                                                2010       218.056\n2                                                2011       224.939\n3                                                2012       229.594\n4                                                2013       232.957\n5                                                2014       236.736\n6                                                2015       237.017\n7                                                2016       240.007\n8                                                2017        245.12\n9                                                2018       251.107\n10                                               2019       255.657\n11                                               2020       258.811\n12                                               2021        270.97\n13                                               2022       292.655",
      "text/html": "<div>\n<style scoped>\n    .dataframe tbody tr th:only-of-type {\n        vertical-align: middle;\n    }\n\n    .dataframe tbody tr th {\n        vertical-align: top;\n    }\n\n    .dataframe thead th {\n        text-align: right;\n    }\n</style>\n<table border=\"1\" class=\"dataframe\">\n  <thead>\n    <tr style=\"text-align: right;\">\n      <th></th>\n      <th>Consumer Price Index for All Urban Consumers (CPI-U)</th>\n      <th>Unnamed: 13</th>\n    </tr>\n  </thead>\n  <tbody>\n    <tr>\n      <th>0</th>\n      <td>Year</td>\n      <td>Annual</td>\n    </tr>\n    <tr>\n      <th>1</th>\n      <td>2010</td>\n      <td>218.056</td>\n    </tr>\n    <tr>\n      <th>2</th>\n      <td>2011</td>\n      <td>224.939</td>\n    </tr>\n    <tr>\n      <th>3</th>\n      <td>2012</td>\n      <td>229.594</td>\n    </tr>\n    <tr>\n      <th>4</th>\n      <td>2013</td>\n      <td>232.957</td>\n    </tr>\n    <tr>\n      <th>5</th>\n      <td>2014</td>\n      <td>236.736</td>\n    </tr>\n    <tr>\n      <th>6</th>\n      <td>2015</td>\n      <td>237.017</td>\n    </tr>\n    <tr>\n      <th>7</th>\n      <td>2016</td>\n      <td>240.007</td>\n    </tr>\n    <tr>\n      <th>8</th>\n      <td>2017</td>\n      <td>245.12</td>\n    </tr>\n    <tr>\n      <th>9</th>\n      <td>2018</td>\n      <td>251.107</td>\n    </tr>\n    <tr>\n      <th>10</th>\n      <td>2019</td>\n      <td>255.657</td>\n    </tr>\n    <tr>\n      <th>11</th>\n      <td>2020</td>\n      <td>258.811</td>\n    </tr>\n    <tr>\n      <th>12</th>\n      <td>2021</td>\n      <td>270.97</td>\n    </tr>\n    <tr>\n      <th>13</th>\n      <td>2022</td>\n      <td>292.655</td>\n    </tr>\n  </tbody>\n</table>\n</div>"
     },
     "execution_count": 10,
     "metadata": {},
     "output_type": "execute_result"
    }
   ],
   "source": [
    "cpi_u = cpi.iloc[10:,[0,-3]].reset_index(drop=True)\n",
    "cpi_u"
   ],
   "metadata": {
    "collapsed": false,
    "ExecuteTime": {
     "end_time": "2023-12-11T22:30:38.513156310Z",
     "start_time": "2023-12-11T22:30:38.485614521Z"
    }
   },
   "id": "bbb702326e057f12"
  },
  {
   "cell_type": "code",
   "execution_count": 11,
   "outputs": [
    {
     "data": {
      "text/plain": "   Consumer Price Index for All Urban Consumers (CPI-U) Unnamed: 13\n0                                                2010       218.056\n1                                                2011       224.939\n2                                                2012       229.594\n3                                                2013       232.957\n4                                                2014       236.736\n5                                                2015       237.017\n6                                                2016       240.007\n7                                                2017        245.12\n8                                                2018       251.107\n9                                                2019       255.657\n10                                               2021        270.97\n11                                               2022       292.655",
      "text/html": "<div>\n<style scoped>\n    .dataframe tbody tr th:only-of-type {\n        vertical-align: middle;\n    }\n\n    .dataframe tbody tr th {\n        vertical-align: top;\n    }\n\n    .dataframe thead th {\n        text-align: right;\n    }\n</style>\n<table border=\"1\" class=\"dataframe\">\n  <thead>\n    <tr style=\"text-align: right;\">\n      <th></th>\n      <th>Consumer Price Index for All Urban Consumers (CPI-U)</th>\n      <th>Unnamed: 13</th>\n    </tr>\n  </thead>\n  <tbody>\n    <tr>\n      <th>0</th>\n      <td>2010</td>\n      <td>218.056</td>\n    </tr>\n    <tr>\n      <th>1</th>\n      <td>2011</td>\n      <td>224.939</td>\n    </tr>\n    <tr>\n      <th>2</th>\n      <td>2012</td>\n      <td>229.594</td>\n    </tr>\n    <tr>\n      <th>3</th>\n      <td>2013</td>\n      <td>232.957</td>\n    </tr>\n    <tr>\n      <th>4</th>\n      <td>2014</td>\n      <td>236.736</td>\n    </tr>\n    <tr>\n      <th>5</th>\n      <td>2015</td>\n      <td>237.017</td>\n    </tr>\n    <tr>\n      <th>6</th>\n      <td>2016</td>\n      <td>240.007</td>\n    </tr>\n    <tr>\n      <th>7</th>\n      <td>2017</td>\n      <td>245.12</td>\n    </tr>\n    <tr>\n      <th>8</th>\n      <td>2018</td>\n      <td>251.107</td>\n    </tr>\n    <tr>\n      <th>9</th>\n      <td>2019</td>\n      <td>255.657</td>\n    </tr>\n    <tr>\n      <th>10</th>\n      <td>2021</td>\n      <td>270.97</td>\n    </tr>\n    <tr>\n      <th>11</th>\n      <td>2022</td>\n      <td>292.655</td>\n    </tr>\n  </tbody>\n</table>\n</div>"
     },
     "execution_count": 11,
     "metadata": {},
     "output_type": "execute_result"
    }
   ],
   "source": [
    "cpi_u = cpi_u.drop([0, 11]).reset_index(drop=True)\n",
    "cpi_u"
   ],
   "metadata": {
    "collapsed": false,
    "ExecuteTime": {
     "end_time": "2023-12-11T22:30:38.514174668Z",
     "start_time": "2023-12-11T22:30:38.487957876Z"
    }
   },
   "id": "ba9d74fa61fc7dc7"
  },
  {
   "cell_type": "code",
   "execution_count": 12,
   "outputs": [
    {
     "data": {
      "text/plain": "   Consumer Price Index for All Urban Consumers (CPI-U) Unnamed: 13  Year  \\\n0                                                2010       218.056  2010   \n1                                                2011       224.939  2011   \n2                                                2012       229.594  2012   \n3                                                2013       232.957  2013   \n4                                                2014       236.736  2014   \n5                                                2015       237.017  2015   \n6                                                2016       240.007  2016   \n7                                                2017        245.12  2017   \n8                                                2018       251.107  2018   \n9                                                2019       255.657  2019   \n10                                               2021        270.97  2021   \n11                                               2022       292.655  2022   \n\n      CPI-U  \n0   218.056  \n1   224.939  \n2   229.594  \n3   232.957  \n4   236.736  \n5   237.017  \n6   240.007  \n7    245.12  \n8   251.107  \n9   255.657  \n10   270.97  \n11  292.655  ",
      "text/html": "<div>\n<style scoped>\n    .dataframe tbody tr th:only-of-type {\n        vertical-align: middle;\n    }\n\n    .dataframe tbody tr th {\n        vertical-align: top;\n    }\n\n    .dataframe thead th {\n        text-align: right;\n    }\n</style>\n<table border=\"1\" class=\"dataframe\">\n  <thead>\n    <tr style=\"text-align: right;\">\n      <th></th>\n      <th>Consumer Price Index for All Urban Consumers (CPI-U)</th>\n      <th>Unnamed: 13</th>\n      <th>Year</th>\n      <th>CPI-U</th>\n    </tr>\n  </thead>\n  <tbody>\n    <tr>\n      <th>0</th>\n      <td>2010</td>\n      <td>218.056</td>\n      <td>2010</td>\n      <td>218.056</td>\n    </tr>\n    <tr>\n      <th>1</th>\n      <td>2011</td>\n      <td>224.939</td>\n      <td>2011</td>\n      <td>224.939</td>\n    </tr>\n    <tr>\n      <th>2</th>\n      <td>2012</td>\n      <td>229.594</td>\n      <td>2012</td>\n      <td>229.594</td>\n    </tr>\n    <tr>\n      <th>3</th>\n      <td>2013</td>\n      <td>232.957</td>\n      <td>2013</td>\n      <td>232.957</td>\n    </tr>\n    <tr>\n      <th>4</th>\n      <td>2014</td>\n      <td>236.736</td>\n      <td>2014</td>\n      <td>236.736</td>\n    </tr>\n    <tr>\n      <th>5</th>\n      <td>2015</td>\n      <td>237.017</td>\n      <td>2015</td>\n      <td>237.017</td>\n    </tr>\n    <tr>\n      <th>6</th>\n      <td>2016</td>\n      <td>240.007</td>\n      <td>2016</td>\n      <td>240.007</td>\n    </tr>\n    <tr>\n      <th>7</th>\n      <td>2017</td>\n      <td>245.12</td>\n      <td>2017</td>\n      <td>245.12</td>\n    </tr>\n    <tr>\n      <th>8</th>\n      <td>2018</td>\n      <td>251.107</td>\n      <td>2018</td>\n      <td>251.107</td>\n    </tr>\n    <tr>\n      <th>9</th>\n      <td>2019</td>\n      <td>255.657</td>\n      <td>2019</td>\n      <td>255.657</td>\n    </tr>\n    <tr>\n      <th>10</th>\n      <td>2021</td>\n      <td>270.97</td>\n      <td>2021</td>\n      <td>270.97</td>\n    </tr>\n    <tr>\n      <th>11</th>\n      <td>2022</td>\n      <td>292.655</td>\n      <td>2022</td>\n      <td>292.655</td>\n    </tr>\n  </tbody>\n</table>\n</div>"
     },
     "execution_count": 12,
     "metadata": {},
     "output_type": "execute_result"
    }
   ],
   "source": [
    "cpi_u['Year'] = cpi_u['Consumer Price Index for All Urban Consumers (CPI-U)']\n",
    "cpi_u['CPI-U'] = cpi_u['Unnamed: 13']\n",
    "cpi_u"
   ],
   "metadata": {
    "collapsed": false,
    "ExecuteTime": {
     "end_time": "2023-12-11T22:30:38.538179845Z",
     "start_time": "2023-12-11T22:30:38.498053134Z"
    }
   },
   "id": "2c90b73263cad3b1"
  },
  {
   "cell_type": "code",
   "execution_count": 13,
   "outputs": [
    {
     "data": {
      "text/plain": "    Year    CPI-U\n0   2010  218.056\n1   2011  224.939\n2   2012  229.594\n3   2013  232.957\n4   2014  236.736\n5   2015  237.017\n6   2016  240.007\n7   2017   245.12\n8   2018  251.107\n9   2019  255.657\n10  2021   270.97\n11  2022  292.655",
      "text/html": "<div>\n<style scoped>\n    .dataframe tbody tr th:only-of-type {\n        vertical-align: middle;\n    }\n\n    .dataframe tbody tr th {\n        vertical-align: top;\n    }\n\n    .dataframe thead th {\n        text-align: right;\n    }\n</style>\n<table border=\"1\" class=\"dataframe\">\n  <thead>\n    <tr style=\"text-align: right;\">\n      <th></th>\n      <th>Year</th>\n      <th>CPI-U</th>\n    </tr>\n  </thead>\n  <tbody>\n    <tr>\n      <th>0</th>\n      <td>2010</td>\n      <td>218.056</td>\n    </tr>\n    <tr>\n      <th>1</th>\n      <td>2011</td>\n      <td>224.939</td>\n    </tr>\n    <tr>\n      <th>2</th>\n      <td>2012</td>\n      <td>229.594</td>\n    </tr>\n    <tr>\n      <th>3</th>\n      <td>2013</td>\n      <td>232.957</td>\n    </tr>\n    <tr>\n      <th>4</th>\n      <td>2014</td>\n      <td>236.736</td>\n    </tr>\n    <tr>\n      <th>5</th>\n      <td>2015</td>\n      <td>237.017</td>\n    </tr>\n    <tr>\n      <th>6</th>\n      <td>2016</td>\n      <td>240.007</td>\n    </tr>\n    <tr>\n      <th>7</th>\n      <td>2017</td>\n      <td>245.12</td>\n    </tr>\n    <tr>\n      <th>8</th>\n      <td>2018</td>\n      <td>251.107</td>\n    </tr>\n    <tr>\n      <th>9</th>\n      <td>2019</td>\n      <td>255.657</td>\n    </tr>\n    <tr>\n      <th>10</th>\n      <td>2021</td>\n      <td>270.97</td>\n    </tr>\n    <tr>\n      <th>11</th>\n      <td>2022</td>\n      <td>292.655</td>\n    </tr>\n  </tbody>\n</table>\n</div>"
     },
     "execution_count": 13,
     "metadata": {},
     "output_type": "execute_result"
    }
   ],
   "source": [
    "cpi_u = cpi_u.iloc[:, 2:]\n",
    "cpi_u"
   ],
   "metadata": {
    "collapsed": false,
    "ExecuteTime": {
     "end_time": "2023-12-11T22:30:38.541526777Z",
     "start_time": "2023-12-11T22:30:38.509140679Z"
    }
   },
   "id": "c8c3739643a0b4b"
  },
  {
   "cell_type": "code",
   "execution_count": 14,
   "outputs": [
    {
     "data": {
      "text/plain": "    Year    CPI-U inflation_factor\n0   2010  218.056              1.0\n1   2011  224.939         0.969401\n2   2012  229.594         0.949746\n3   2013  232.957         0.936035\n4   2014  236.736         0.921094\n5   2015  237.017         0.920002\n6   2016  240.007          0.90854\n7   2017   245.12         0.889589\n8   2018  251.107         0.868379\n9   2019  255.657         0.852924\n10  2021   270.97         0.804724\n11  2022  292.655         0.745096",
      "text/html": "<div>\n<style scoped>\n    .dataframe tbody tr th:only-of-type {\n        vertical-align: middle;\n    }\n\n    .dataframe tbody tr th {\n        vertical-align: top;\n    }\n\n    .dataframe thead th {\n        text-align: right;\n    }\n</style>\n<table border=\"1\" class=\"dataframe\">\n  <thead>\n    <tr style=\"text-align: right;\">\n      <th></th>\n      <th>Year</th>\n      <th>CPI-U</th>\n      <th>inflation_factor</th>\n    </tr>\n  </thead>\n  <tbody>\n    <tr>\n      <th>0</th>\n      <td>2010</td>\n      <td>218.056</td>\n      <td>1.0</td>\n    </tr>\n    <tr>\n      <th>1</th>\n      <td>2011</td>\n      <td>224.939</td>\n      <td>0.969401</td>\n    </tr>\n    <tr>\n      <th>2</th>\n      <td>2012</td>\n      <td>229.594</td>\n      <td>0.949746</td>\n    </tr>\n    <tr>\n      <th>3</th>\n      <td>2013</td>\n      <td>232.957</td>\n      <td>0.936035</td>\n    </tr>\n    <tr>\n      <th>4</th>\n      <td>2014</td>\n      <td>236.736</td>\n      <td>0.921094</td>\n    </tr>\n    <tr>\n      <th>5</th>\n      <td>2015</td>\n      <td>237.017</td>\n      <td>0.920002</td>\n    </tr>\n    <tr>\n      <th>6</th>\n      <td>2016</td>\n      <td>240.007</td>\n      <td>0.90854</td>\n    </tr>\n    <tr>\n      <th>7</th>\n      <td>2017</td>\n      <td>245.12</td>\n      <td>0.889589</td>\n    </tr>\n    <tr>\n      <th>8</th>\n      <td>2018</td>\n      <td>251.107</td>\n      <td>0.868379</td>\n    </tr>\n    <tr>\n      <th>9</th>\n      <td>2019</td>\n      <td>255.657</td>\n      <td>0.852924</td>\n    </tr>\n    <tr>\n      <th>10</th>\n      <td>2021</td>\n      <td>270.97</td>\n      <td>0.804724</td>\n    </tr>\n    <tr>\n      <th>11</th>\n      <td>2022</td>\n      <td>292.655</td>\n      <td>0.745096</td>\n    </tr>\n  </tbody>\n</table>\n</div>"
     },
     "execution_count": 14,
     "metadata": {},
     "output_type": "execute_result"
    }
   ],
   "source": [
    "cpi_u['inflation_factor'] = cpi_u['CPI-U'].iloc[0] / cpi_u['CPI-U']\n",
    "cpi_u"
   ],
   "metadata": {
    "collapsed": false,
    "ExecuteTime": {
     "end_time": "2023-12-11T22:30:38.639654628Z",
     "start_time": "2023-12-11T22:30:38.519534186Z"
    }
   },
   "id": "26aeaa1db558ebe9"
  },
  {
   "cell_type": "code",
   "execution_count": 15,
   "outputs": [],
   "source": [
    "cpi_u.to_csv('cpi-u.csv', index=False)"
   ],
   "metadata": {
    "collapsed": false,
    "ExecuteTime": {
     "end_time": "2023-12-11T22:30:38.650843364Z",
     "start_time": "2023-12-11T22:30:38.566924660Z"
    }
   },
   "id": "cff388cdcf41709d"
  },
  {
   "cell_type": "code",
   "execution_count": 15,
   "outputs": [],
   "source": [],
   "metadata": {
    "collapsed": false,
    "ExecuteTime": {
     "end_time": "2023-12-11T22:30:38.651376012Z",
     "start_time": "2023-12-11T22:30:38.567026380Z"
    }
   },
   "id": "d16e9b8a8ddaf224"
  },
  {
   "cell_type": "markdown",
   "source": [
    "# Load and Clean Median Rent Data"
   ],
   "metadata": {
    "collapsed": false
   },
   "id": "10c76cb66e6355a8"
  },
  {
   "cell_type": "code",
   "execution_count": 16,
   "outputs": [],
   "source": [
    "data = {'2010':[855],\n",
    "        '2011':[871],\n",
    "        '2012':[884],\n",
    "        '2013':[905],\n",
    "        '2014':[934],\n",
    "        '2015':[959],\n",
    "        '2016':[981],\n",
    "        '2017':[1012],\n",
    "        '2018':[1058],\n",
    "        '2019':[1097],\n",
    "        '2021':[1191],\n",
    "        '2022':[1300],\n",
    "        }"
   ],
   "metadata": {
    "collapsed": false,
    "ExecuteTime": {
     "end_time": "2023-12-11T22:30:38.651824421Z",
     "start_time": "2023-12-11T22:30:38.567079290Z"
    }
   },
   "id": "dbecbe4fe9f3c284"
  },
  {
   "cell_type": "code",
   "execution_count": 17,
   "outputs": [],
   "source": [
    "df = pd.DataFrame(data=data)"
   ],
   "metadata": {
    "collapsed": false,
    "ExecuteTime": {
     "end_time": "2023-12-11T22:30:38.652253250Z",
     "start_time": "2023-12-11T22:30:38.567127360Z"
    }
   },
   "id": "8fdd2abad0341f3d"
  },
  {
   "cell_type": "code",
   "execution_count": 18,
   "outputs": [],
   "source": [
    "df.to_csv(\"./median_rent_year.csv\", index=False)"
   ],
   "metadata": {
    "collapsed": false,
    "ExecuteTime": {
     "end_time": "2023-12-11T22:30:38.680943586Z",
     "start_time": "2023-12-11T22:30:38.567170369Z"
    }
   },
   "id": "61f3f60011f51a19"
  },
  {
   "cell_type": "code",
   "execution_count": 18,
   "outputs": [],
   "source": [],
   "metadata": {
    "collapsed": false,
    "ExecuteTime": {
     "end_time": "2023-12-11T22:30:38.681489475Z",
     "start_time": "2023-12-11T22:30:38.610885923Z"
    }
   },
   "id": "84084c0932d79f64"
  },
  {
   "cell_type": "markdown",
   "source": [
    "# Adjust for Inflation"
   ],
   "metadata": {
    "collapsed": false
   },
   "id": "34daa95241270ea2"
  },
  {
   "cell_type": "code",
   "execution_count": 19,
   "outputs": [],
   "source": [
    "median_income = output"
   ],
   "metadata": {
    "collapsed": false,
    "ExecuteTime": {
     "end_time": "2023-12-11T22:30:38.681939644Z",
     "start_time": "2023-12-11T22:30:38.610984952Z"
    }
   },
   "id": "1e0a98282f95f9ca"
  },
  {
   "cell_type": "code",
   "execution_count": 20,
   "outputs": [],
   "source": [
    "for i in range(median_income.shape[0]):\n",
    "    median_income.iloc[i, 1:] = median_income.iloc[i, 1:].reset_index(drop=True) * cpi_u['inflation_factor']"
   ],
   "metadata": {
    "collapsed": false,
    "ExecuteTime": {
     "end_time": "2023-12-11T22:30:38.682363113Z",
     "start_time": "2023-12-11T22:30:38.611037462Z"
    }
   },
   "id": "fb7f14ea3522ae63"
  },
  {
   "cell_type": "code",
   "execution_count": 21,
   "outputs": [
    {
     "data": {
      "text/plain": "              0          1          2          3          4          5\n2010        0.0        0.0        0.0        0.0        0.0        0.0\n2011  -1.279258   -4.08483  -2.700514  -1.811705  -9.301458  -5.742718\n2012  -0.955311  -4.499296   -4.35362   0.107221  -7.641981  -4.506175\n2013  -0.355393  -2.948143   -2.18107   1.215061 -10.271777   -3.66401\n2014   0.665625  -2.670439    -2.2031   1.843628   -7.82258  -1.542016\n2015   4.653679   0.126677   1.099933    6.20196  -3.064794   2.182015\n2016   6.208138   4.320585   2.921416    9.42282  -1.681548   6.462941\n2017   7.984686   6.587455   6.262498  10.771867    2.37283   9.875732\n2018   9.047067   7.353842  10.886591   13.03747   1.868654  11.262882\n2019  13.478877  11.415075  10.625673  19.317992   7.413868  18.461176\n2021  14.900079  12.097652  21.984666  20.755392    6.69421   21.39478\n2022  13.486546  13.998897  23.428932  18.902707   2.230425  23.351061",
      "text/html": "<div>\n<style scoped>\n    .dataframe tbody tr th:only-of-type {\n        vertical-align: middle;\n    }\n\n    .dataframe tbody tr th {\n        vertical-align: top;\n    }\n\n    .dataframe thead th {\n        text-align: right;\n    }\n</style>\n<table border=\"1\" class=\"dataframe\">\n  <thead>\n    <tr style=\"text-align: right;\">\n      <th></th>\n      <th>0</th>\n      <th>1</th>\n      <th>2</th>\n      <th>3</th>\n      <th>4</th>\n      <th>5</th>\n    </tr>\n  </thead>\n  <tbody>\n    <tr>\n      <th>2010</th>\n      <td>0.0</td>\n      <td>0.0</td>\n      <td>0.0</td>\n      <td>0.0</td>\n      <td>0.0</td>\n      <td>0.0</td>\n    </tr>\n    <tr>\n      <th>2011</th>\n      <td>-1.279258</td>\n      <td>-4.08483</td>\n      <td>-2.700514</td>\n      <td>-1.811705</td>\n      <td>-9.301458</td>\n      <td>-5.742718</td>\n    </tr>\n    <tr>\n      <th>2012</th>\n      <td>-0.955311</td>\n      <td>-4.499296</td>\n      <td>-4.35362</td>\n      <td>0.107221</td>\n      <td>-7.641981</td>\n      <td>-4.506175</td>\n    </tr>\n    <tr>\n      <th>2013</th>\n      <td>-0.355393</td>\n      <td>-2.948143</td>\n      <td>-2.18107</td>\n      <td>1.215061</td>\n      <td>-10.271777</td>\n      <td>-3.66401</td>\n    </tr>\n    <tr>\n      <th>2014</th>\n      <td>0.665625</td>\n      <td>-2.670439</td>\n      <td>-2.2031</td>\n      <td>1.843628</td>\n      <td>-7.82258</td>\n      <td>-1.542016</td>\n    </tr>\n    <tr>\n      <th>2015</th>\n      <td>4.653679</td>\n      <td>0.126677</td>\n      <td>1.099933</td>\n      <td>6.20196</td>\n      <td>-3.064794</td>\n      <td>2.182015</td>\n    </tr>\n    <tr>\n      <th>2016</th>\n      <td>6.208138</td>\n      <td>4.320585</td>\n      <td>2.921416</td>\n      <td>9.42282</td>\n      <td>-1.681548</td>\n      <td>6.462941</td>\n    </tr>\n    <tr>\n      <th>2017</th>\n      <td>7.984686</td>\n      <td>6.587455</td>\n      <td>6.262498</td>\n      <td>10.771867</td>\n      <td>2.37283</td>\n      <td>9.875732</td>\n    </tr>\n    <tr>\n      <th>2018</th>\n      <td>9.047067</td>\n      <td>7.353842</td>\n      <td>10.886591</td>\n      <td>13.03747</td>\n      <td>1.868654</td>\n      <td>11.262882</td>\n    </tr>\n    <tr>\n      <th>2019</th>\n      <td>13.478877</td>\n      <td>11.415075</td>\n      <td>10.625673</td>\n      <td>19.317992</td>\n      <td>7.413868</td>\n      <td>18.461176</td>\n    </tr>\n    <tr>\n      <th>2021</th>\n      <td>14.900079</td>\n      <td>12.097652</td>\n      <td>21.984666</td>\n      <td>20.755392</td>\n      <td>6.69421</td>\n      <td>21.39478</td>\n    </tr>\n    <tr>\n      <th>2022</th>\n      <td>13.486546</td>\n      <td>13.998897</td>\n      <td>23.428932</td>\n      <td>18.902707</td>\n      <td>2.230425</td>\n      <td>23.351061</td>\n    </tr>\n  </tbody>\n</table>\n</div>"
     },
     "execution_count": 21,
     "metadata": {},
     "output_type": "execute_result"
    }
   ],
   "source": [
    "percentage_change_income = pd.DataFrame()\n",
    "\n",
    "for i in range(median_income.shape[0]):\n",
    "    pct = (median_income.iloc[i, 1:] - median_income.iloc[i].iloc[1]) / median_income.iloc[i].iloc[1] * 100\n",
    "    percentage_change_income = pd.concat([percentage_change_income, pct], axis=1)\n",
    "\n",
    "percentage_change_income"
   ],
   "metadata": {
    "collapsed": false,
    "ExecuteTime": {
     "end_time": "2023-12-11T22:30:38.683074642Z",
     "start_time": "2023-12-11T22:30:38.611084952Z"
    }
   },
   "id": "f07ac516d4c18884"
  },
  {
   "cell_type": "code",
   "execution_count": 22,
   "outputs": [],
   "source": [
    "percentage_change_income = pd.concat([median_income.iloc[:,0], percentage_change_income.T], axis=1)"
   ],
   "metadata": {
    "collapsed": false,
    "ExecuteTime": {
     "end_time": "2023-12-11T22:30:38.704582453Z",
     "start_time": "2023-12-11T22:30:38.611164022Z"
    }
   },
   "id": "a663b4baf66d56d4"
  },
  {
   "cell_type": "code",
   "execution_count": 23,
   "outputs": [
    {
     "data": {
      "text/plain": "                                 Label (Grouping) 2010      2011      2012  \\\n0                                           White  0.0 -1.279258 -0.955311   \n1                       Black or African American  0.0  -4.08483 -4.499296   \n2               American Indian and Alaska Native  0.0 -2.700514  -4.35362   \n3                                           Asian  0.0 -1.811705  0.107221   \n4      Native Hawaiian and Other Pacific Islander  0.0 -9.301458 -7.641981   \n5                                 Some other race  0.0 -5.742718 -4.506175   \n\n        2013      2014      2015      2016       2017       2018       2019  \\\n0  -0.355393  0.665625  4.653679  6.208138   7.984686   9.047067  13.478877   \n1  -2.948143 -2.670439  0.126677  4.320585   6.587455   7.353842  11.415075   \n2   -2.18107   -2.2031  1.099933  2.921416   6.262498  10.886591  10.625673   \n3   1.215061  1.843628   6.20196   9.42282  10.771867   13.03747  19.317992   \n4 -10.271777  -7.82258 -3.064794 -1.681548    2.37283   1.868654   7.413868   \n5   -3.66401 -1.542016  2.182015  6.462941   9.875732  11.262882  18.461176   \n\n        2021       2022  \n0  14.900079  13.486546  \n1  12.097652  13.998897  \n2  21.984666  23.428932  \n3  20.755392  18.902707  \n4    6.69421   2.230425  \n5   21.39478  23.351061  ",
      "text/html": "<div>\n<style scoped>\n    .dataframe tbody tr th:only-of-type {\n        vertical-align: middle;\n    }\n\n    .dataframe tbody tr th {\n        vertical-align: top;\n    }\n\n    .dataframe thead th {\n        text-align: right;\n    }\n</style>\n<table border=\"1\" class=\"dataframe\">\n  <thead>\n    <tr style=\"text-align: right;\">\n      <th></th>\n      <th>Label (Grouping)</th>\n      <th>2010</th>\n      <th>2011</th>\n      <th>2012</th>\n      <th>2013</th>\n      <th>2014</th>\n      <th>2015</th>\n      <th>2016</th>\n      <th>2017</th>\n      <th>2018</th>\n      <th>2019</th>\n      <th>2021</th>\n      <th>2022</th>\n    </tr>\n  </thead>\n  <tbody>\n    <tr>\n      <th>0</th>\n      <td>White</td>\n      <td>0.0</td>\n      <td>-1.279258</td>\n      <td>-0.955311</td>\n      <td>-0.355393</td>\n      <td>0.665625</td>\n      <td>4.653679</td>\n      <td>6.208138</td>\n      <td>7.984686</td>\n      <td>9.047067</td>\n      <td>13.478877</td>\n      <td>14.900079</td>\n      <td>13.486546</td>\n    </tr>\n    <tr>\n      <th>1</th>\n      <td>Black or African American</td>\n      <td>0.0</td>\n      <td>-4.08483</td>\n      <td>-4.499296</td>\n      <td>-2.948143</td>\n      <td>-2.670439</td>\n      <td>0.126677</td>\n      <td>4.320585</td>\n      <td>6.587455</td>\n      <td>7.353842</td>\n      <td>11.415075</td>\n      <td>12.097652</td>\n      <td>13.998897</td>\n    </tr>\n    <tr>\n      <th>2</th>\n      <td>American Indian and Alaska Native</td>\n      <td>0.0</td>\n      <td>-2.700514</td>\n      <td>-4.35362</td>\n      <td>-2.18107</td>\n      <td>-2.2031</td>\n      <td>1.099933</td>\n      <td>2.921416</td>\n      <td>6.262498</td>\n      <td>10.886591</td>\n      <td>10.625673</td>\n      <td>21.984666</td>\n      <td>23.428932</td>\n    </tr>\n    <tr>\n      <th>3</th>\n      <td>Asian</td>\n      <td>0.0</td>\n      <td>-1.811705</td>\n      <td>0.107221</td>\n      <td>1.215061</td>\n      <td>1.843628</td>\n      <td>6.20196</td>\n      <td>9.42282</td>\n      <td>10.771867</td>\n      <td>13.03747</td>\n      <td>19.317992</td>\n      <td>20.755392</td>\n      <td>18.902707</td>\n    </tr>\n    <tr>\n      <th>4</th>\n      <td>Native Hawaiian and Other Pacific Islander</td>\n      <td>0.0</td>\n      <td>-9.301458</td>\n      <td>-7.641981</td>\n      <td>-10.271777</td>\n      <td>-7.82258</td>\n      <td>-3.064794</td>\n      <td>-1.681548</td>\n      <td>2.37283</td>\n      <td>1.868654</td>\n      <td>7.413868</td>\n      <td>6.69421</td>\n      <td>2.230425</td>\n    </tr>\n    <tr>\n      <th>5</th>\n      <td>Some other race</td>\n      <td>0.0</td>\n      <td>-5.742718</td>\n      <td>-4.506175</td>\n      <td>-3.66401</td>\n      <td>-1.542016</td>\n      <td>2.182015</td>\n      <td>6.462941</td>\n      <td>9.875732</td>\n      <td>11.262882</td>\n      <td>18.461176</td>\n      <td>21.39478</td>\n      <td>23.351061</td>\n    </tr>\n  </tbody>\n</table>\n</div>"
     },
     "execution_count": 23,
     "metadata": {},
     "output_type": "execute_result"
    }
   ],
   "source": [
    "percentage_change_income"
   ],
   "metadata": {
    "collapsed": false,
    "ExecuteTime": {
     "end_time": "2023-12-11T22:30:38.705322122Z",
     "start_time": "2023-12-11T22:30:38.654876954Z"
    }
   },
   "id": "52fb636106485a5a"
  },
  {
   "cell_type": "code",
   "execution_count": 24,
   "outputs": [],
   "source": [
    "percentage_change_income.to_csv('percentage_change_income.csv', index=False)"
   ],
   "metadata": {
    "collapsed": false,
    "ExecuteTime": {
     "end_time": "2023-12-11T22:30:38.705782661Z",
     "start_time": "2023-12-11T22:30:38.654969014Z"
    }
   },
   "id": "d55afcc5d024c368"
  },
  {
   "cell_type": "code",
   "execution_count": 24,
   "outputs": [],
   "source": [],
   "metadata": {
    "collapsed": false,
    "ExecuteTime": {
     "end_time": "2023-12-11T22:30:38.708292375Z",
     "start_time": "2023-12-11T22:30:38.655018384Z"
    }
   },
   "id": "a682925ee8b91cbd"
  },
  {
   "cell_type": "code",
   "execution_count": 25,
   "outputs": [],
   "source": [
    "median_rent = pd.DataFrame(data=data.values()).T * cpi_u.inflation_factor"
   ],
   "metadata": {
    "collapsed": false,
    "ExecuteTime": {
     "end_time": "2023-12-11T22:30:38.723130592Z",
     "start_time": "2023-12-11T22:30:38.655063663Z"
    }
   },
   "id": "3b121b6bfbf2dc9c"
  },
  {
   "cell_type": "code",
   "execution_count": 26,
   "outputs": [
    {
     "data": {
      "text/plain": "            0\n0         0.0\n1   -1.245858\n2   -1.804032\n3   -0.922568\n4    0.620043\n5    3.190814\n6     4.24303\n7    5.294016\n8    7.455531\n9    9.433645\n10  12.096609\n11  13.289414",
      "text/html": "<div>\n<style scoped>\n    .dataframe tbody tr th:only-of-type {\n        vertical-align: middle;\n    }\n\n    .dataframe tbody tr th {\n        vertical-align: top;\n    }\n\n    .dataframe thead th {\n        text-align: right;\n    }\n</style>\n<table border=\"1\" class=\"dataframe\">\n  <thead>\n    <tr style=\"text-align: right;\">\n      <th></th>\n      <th>0</th>\n    </tr>\n  </thead>\n  <tbody>\n    <tr>\n      <th>0</th>\n      <td>0.0</td>\n    </tr>\n    <tr>\n      <th>1</th>\n      <td>-1.245858</td>\n    </tr>\n    <tr>\n      <th>2</th>\n      <td>-1.804032</td>\n    </tr>\n    <tr>\n      <th>3</th>\n      <td>-0.922568</td>\n    </tr>\n    <tr>\n      <th>4</th>\n      <td>0.620043</td>\n    </tr>\n    <tr>\n      <th>5</th>\n      <td>3.190814</td>\n    </tr>\n    <tr>\n      <th>6</th>\n      <td>4.24303</td>\n    </tr>\n    <tr>\n      <th>7</th>\n      <td>5.294016</td>\n    </tr>\n    <tr>\n      <th>8</th>\n      <td>7.455531</td>\n    </tr>\n    <tr>\n      <th>9</th>\n      <td>9.433645</td>\n    </tr>\n    <tr>\n      <th>10</th>\n      <td>12.096609</td>\n    </tr>\n    <tr>\n      <th>11</th>\n      <td>13.289414</td>\n    </tr>\n  </tbody>\n</table>\n</div>"
     },
     "execution_count": 26,
     "metadata": {},
     "output_type": "execute_result"
    }
   ],
   "source": [
    "percentage_change_rent = pd.DataFrame()\n",
    "\n",
    "for i in range(median_rent.shape[0]):\n",
    "    pct = (median_rent.iloc[i, :] - median_rent.iloc[i].iloc[0]) / median_rent.iloc[i].iloc[0] * 100\n",
    "    percentage_change_rent = pd.concat([percentage_change_rent, pct], axis=1)\n",
    "\n",
    "percentage_change_rent"
   ],
   "metadata": {
    "collapsed": false,
    "ExecuteTime": {
     "end_time": "2023-12-11T22:30:38.746023402Z",
     "start_time": "2023-12-11T22:30:38.655126253Z"
    }
   },
   "id": "5c758ca242ddd4ca"
  },
  {
   "cell_type": "code",
   "execution_count": 27,
   "outputs": [],
   "source": [
    "percentage_change_rent.to_csv('./percentage_change_rent.csv', index=False)"
   ],
   "metadata": {
    "collapsed": false,
    "ExecuteTime": {
     "end_time": "2023-12-11T22:30:38.746568450Z",
     "start_time": "2023-12-11T22:30:38.698912306Z"
    }
   },
   "id": "a3e290cc9d4c4384"
  },
  {
   "cell_type": "code",
   "execution_count": 27,
   "outputs": [],
   "source": [],
   "metadata": {
    "collapsed": false,
    "ExecuteTime": {
     "end_time": "2023-12-11T22:30:38.747026939Z",
     "start_time": "2023-12-11T22:30:38.699011326Z"
    }
   },
   "id": "9839891ca3a41205"
  }
 ],
 "metadata": {
  "kernelspec": {
   "display_name": "Python 3",
   "language": "python",
   "name": "python3"
  },
  "language_info": {
   "codemirror_mode": {
    "name": "ipython",
    "version": 2
   },
   "file_extension": ".py",
   "mimetype": "text/x-python",
   "name": "python",
   "nbconvert_exporter": "python",
   "pygments_lexer": "ipython2",
   "version": "2.7.6"
  }
 },
 "nbformat": 4,
 "nbformat_minor": 5
}
