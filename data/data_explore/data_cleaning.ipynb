{
 "cells": [
  {
   "cell_type": "code",
   "execution_count": 1,
   "outputs": [],
   "source": [
    "import pandas as pd\n",
    "import os"
   ],
   "metadata": {
    "collapsed": false,
    "ExecuteTime": {
     "end_time": "2023-11-19T20:40:54.580998983Z",
     "start_time": "2023-11-19T20:40:54.467895641Z"
    }
   },
   "id": "5c0829b6ec8be7c9"
  },
  {
   "cell_type": "code",
   "execution_count": 90,
   "outputs": [],
   "source": [
    "def get_median_income(filename: str, df: pd.DataFrame):\n",
    "    col = df.iloc[3:9][['Label (Grouping)', 'United States!!Median income (dollars)!!Estimate']].reset_index(drop=True)\n",
    "    col.rename(columns={'United States!!Median income (dollars)!!Estimate': int(filename[7:11])}, inplace=True)\n",
    "    return col"
   ],
   "metadata": {
    "collapsed": false,
    "ExecuteTime": {
     "end_time": "2023-11-19T20:17:44.908648032Z",
     "start_time": "2023-11-19T20:17:44.903980081Z"
    }
   },
   "id": "9018b60799ea54c6"
  },
  {
   "cell_type": "code",
   "execution_count": 91,
   "outputs": [],
   "source": [
    "def load_income_files(path: str):\n",
    "    df_list = []\n",
    "    files = os.listdir(path)\n",
    "    for file in files:\n",
    "        if file.endswith('.csv'):\n",
    "            file_path = os.path.join(path, file)\n",
    "            df = pd.read_csv(file_path, index_col=None)\n",
    "            reduced = get_median_income(file, df)\n",
    "            if not df_list:\n",
    "                df_list.append(reduced)\n",
    "            else:\n",
    "                df_list.append(reduced.drop('Label (Grouping)', axis=1))\n",
    "    \n",
    "    return df_list"
   ],
   "metadata": {
    "collapsed": false,
    "ExecuteTime": {
     "end_time": "2023-11-19T20:17:45.951363002Z",
     "start_time": "2023-11-19T20:17:45.946386133Z"
    }
   },
   "id": "8bfbb20efb4d89c2"
  },
  {
   "cell_type": "code",
   "execution_count": 92,
   "outputs": [],
   "source": [
    "dl = load_income_files('./S1903_2010-2022')"
   ],
   "metadata": {
    "collapsed": false,
    "ExecuteTime": {
     "end_time": "2023-11-19T20:17:47.998181889Z",
     "start_time": "2023-11-19T20:17:47.973252462Z"
    }
   },
   "id": "1911e30df8a72c07"
  },
  {
   "cell_type": "code",
   "execution_count": 94,
   "outputs": [],
   "source": [
    "output = pd.concat(dl, axis=1)"
   ],
   "metadata": {
    "collapsed": false,
    "ExecuteTime": {
     "end_time": "2023-11-19T20:18:08.251635Z",
     "start_time": "2023-11-19T20:18:08.207400608Z"
    }
   },
   "id": "1df4319f31028802"
  },
  {
   "cell_type": "code",
   "execution_count": 95,
   "outputs": [
    {
     "data": {
      "text/plain": "                                 Label (Grouping)    2010     2022    2016  \\\n0                                           White  52,480   79,933  61,349   \n1                       Black or African American  33,578   51,374  38,555   \n2               American Indian and Alaska Native  35,062   58,082  39,719   \n3                                           Asian  67,022  106,954  80,720   \n4      Native Hawaiian and Other Pacific Islander  52,776   72,411  57,112   \n5                                 Some other race  38,230   63,290  44,798   \n\n     2014    2015    2012    2013    2018     2021    2011    2017    2019  \n0  57,355  59,698  54,729  55,867  65,902   74,932  53,444  63,704  69,823  \n1  35,481  36,544  33,764  34,815  41,511   46,774  33,223  40,232  43,862  \n2  37,227  38,530  35,310  36,641  44,772   53,149  35,192  41,882  45,476  \n3  74,105  77,368  70,644  72,472  87,243  100,572  67,885  83,456  93,759  \n4  52,815  55,607  51,322  50,591  61,911   69,973  49,378  60,734  66,464  \n5  40,865  42,461  38,439  39,346  48,983   57,671  37,172  47,219  53,097  ",
      "text/html": "<div>\n<style scoped>\n    .dataframe tbody tr th:only-of-type {\n        vertical-align: middle;\n    }\n\n    .dataframe tbody tr th {\n        vertical-align: top;\n    }\n\n    .dataframe thead th {\n        text-align: right;\n    }\n</style>\n<table border=\"1\" class=\"dataframe\">\n  <thead>\n    <tr style=\"text-align: right;\">\n      <th></th>\n      <th>Label (Grouping)</th>\n      <th>2010</th>\n      <th>2022</th>\n      <th>2016</th>\n      <th>2014</th>\n      <th>2015</th>\n      <th>2012</th>\n      <th>2013</th>\n      <th>2018</th>\n      <th>2021</th>\n      <th>2011</th>\n      <th>2017</th>\n      <th>2019</th>\n    </tr>\n  </thead>\n  <tbody>\n    <tr>\n      <th>0</th>\n      <td>White</td>\n      <td>52,480</td>\n      <td>79,933</td>\n      <td>61,349</td>\n      <td>57,355</td>\n      <td>59,698</td>\n      <td>54,729</td>\n      <td>55,867</td>\n      <td>65,902</td>\n      <td>74,932</td>\n      <td>53,444</td>\n      <td>63,704</td>\n      <td>69,823</td>\n    </tr>\n    <tr>\n      <th>1</th>\n      <td>Black or African American</td>\n      <td>33,578</td>\n      <td>51,374</td>\n      <td>38,555</td>\n      <td>35,481</td>\n      <td>36,544</td>\n      <td>33,764</td>\n      <td>34,815</td>\n      <td>41,511</td>\n      <td>46,774</td>\n      <td>33,223</td>\n      <td>40,232</td>\n      <td>43,862</td>\n    </tr>\n    <tr>\n      <th>2</th>\n      <td>American Indian and Alaska Native</td>\n      <td>35,062</td>\n      <td>58,082</td>\n      <td>39,719</td>\n      <td>37,227</td>\n      <td>38,530</td>\n      <td>35,310</td>\n      <td>36,641</td>\n      <td>44,772</td>\n      <td>53,149</td>\n      <td>35,192</td>\n      <td>41,882</td>\n      <td>45,476</td>\n    </tr>\n    <tr>\n      <th>3</th>\n      <td>Asian</td>\n      <td>67,022</td>\n      <td>106,954</td>\n      <td>80,720</td>\n      <td>74,105</td>\n      <td>77,368</td>\n      <td>70,644</td>\n      <td>72,472</td>\n      <td>87,243</td>\n      <td>100,572</td>\n      <td>67,885</td>\n      <td>83,456</td>\n      <td>93,759</td>\n    </tr>\n    <tr>\n      <th>4</th>\n      <td>Native Hawaiian and Other Pacific Islander</td>\n      <td>52,776</td>\n      <td>72,411</td>\n      <td>57,112</td>\n      <td>52,815</td>\n      <td>55,607</td>\n      <td>51,322</td>\n      <td>50,591</td>\n      <td>61,911</td>\n      <td>69,973</td>\n      <td>49,378</td>\n      <td>60,734</td>\n      <td>66,464</td>\n    </tr>\n    <tr>\n      <th>5</th>\n      <td>Some other race</td>\n      <td>38,230</td>\n      <td>63,290</td>\n      <td>44,798</td>\n      <td>40,865</td>\n      <td>42,461</td>\n      <td>38,439</td>\n      <td>39,346</td>\n      <td>48,983</td>\n      <td>57,671</td>\n      <td>37,172</td>\n      <td>47,219</td>\n      <td>53,097</td>\n    </tr>\n  </tbody>\n</table>\n</div>"
     },
     "execution_count": 95,
     "metadata": {},
     "output_type": "execute_result"
    }
   ],
   "source": [
    "output"
   ],
   "metadata": {
    "collapsed": false,
    "ExecuteTime": {
     "end_time": "2023-11-19T20:18:09.236954407Z",
     "start_time": "2023-11-19T20:18:09.226883671Z"
    }
   },
   "id": "99381d1e9d401324"
  },
  {
   "cell_type": "code",
   "execution_count": 96,
   "outputs": [],
   "source": [
    "output = pd.concat([output.iloc[:,0], output[sorted(output.iloc[:, 1:].columns, key=int)]], axis=1)"
   ],
   "metadata": {
    "collapsed": false,
    "ExecuteTime": {
     "end_time": "2023-11-19T20:18:13.122924599Z",
     "start_time": "2023-11-19T20:18:13.115792415Z"
    }
   },
   "id": "47b27c143ed91d55"
  },
  {
   "cell_type": "code",
   "execution_count": 97,
   "outputs": [
    {
     "data": {
      "text/plain": "                                 Label (Grouping)    2010    2011    2012  \\\n0                                           White  52,480  53,444  54,729   \n1                       Black or African American  33,578  33,223  33,764   \n2               American Indian and Alaska Native  35,062  35,192  35,310   \n3                                           Asian  67,022  67,885  70,644   \n4      Native Hawaiian and Other Pacific Islander  52,776  49,378  51,322   \n5                                 Some other race  38,230  37,172  38,439   \n\n     2013    2014    2015    2016    2017    2018    2019     2021     2022  \n0  55,867  57,355  59,698  61,349  63,704  65,902  69,823   74,932   79,933  \n1  34,815  35,481  36,544  38,555  40,232  41,511  43,862   46,774   51,374  \n2  36,641  37,227  38,530  39,719  41,882  44,772  45,476   53,149   58,082  \n3  72,472  74,105  77,368  80,720  83,456  87,243  93,759  100,572  106,954  \n4  50,591  52,815  55,607  57,112  60,734  61,911  66,464   69,973   72,411  \n5  39,346  40,865  42,461  44,798  47,219  48,983  53,097   57,671   63,290  ",
      "text/html": "<div>\n<style scoped>\n    .dataframe tbody tr th:only-of-type {\n        vertical-align: middle;\n    }\n\n    .dataframe tbody tr th {\n        vertical-align: top;\n    }\n\n    .dataframe thead th {\n        text-align: right;\n    }\n</style>\n<table border=\"1\" class=\"dataframe\">\n  <thead>\n    <tr style=\"text-align: right;\">\n      <th></th>\n      <th>Label (Grouping)</th>\n      <th>2010</th>\n      <th>2011</th>\n      <th>2012</th>\n      <th>2013</th>\n      <th>2014</th>\n      <th>2015</th>\n      <th>2016</th>\n      <th>2017</th>\n      <th>2018</th>\n      <th>2019</th>\n      <th>2021</th>\n      <th>2022</th>\n    </tr>\n  </thead>\n  <tbody>\n    <tr>\n      <th>0</th>\n      <td>White</td>\n      <td>52,480</td>\n      <td>53,444</td>\n      <td>54,729</td>\n      <td>55,867</td>\n      <td>57,355</td>\n      <td>59,698</td>\n      <td>61,349</td>\n      <td>63,704</td>\n      <td>65,902</td>\n      <td>69,823</td>\n      <td>74,932</td>\n      <td>79,933</td>\n    </tr>\n    <tr>\n      <th>1</th>\n      <td>Black or African American</td>\n      <td>33,578</td>\n      <td>33,223</td>\n      <td>33,764</td>\n      <td>34,815</td>\n      <td>35,481</td>\n      <td>36,544</td>\n      <td>38,555</td>\n      <td>40,232</td>\n      <td>41,511</td>\n      <td>43,862</td>\n      <td>46,774</td>\n      <td>51,374</td>\n    </tr>\n    <tr>\n      <th>2</th>\n      <td>American Indian and Alaska Native</td>\n      <td>35,062</td>\n      <td>35,192</td>\n      <td>35,310</td>\n      <td>36,641</td>\n      <td>37,227</td>\n      <td>38,530</td>\n      <td>39,719</td>\n      <td>41,882</td>\n      <td>44,772</td>\n      <td>45,476</td>\n      <td>53,149</td>\n      <td>58,082</td>\n    </tr>\n    <tr>\n      <th>3</th>\n      <td>Asian</td>\n      <td>67,022</td>\n      <td>67,885</td>\n      <td>70,644</td>\n      <td>72,472</td>\n      <td>74,105</td>\n      <td>77,368</td>\n      <td>80,720</td>\n      <td>83,456</td>\n      <td>87,243</td>\n      <td>93,759</td>\n      <td>100,572</td>\n      <td>106,954</td>\n    </tr>\n    <tr>\n      <th>4</th>\n      <td>Native Hawaiian and Other Pacific Islander</td>\n      <td>52,776</td>\n      <td>49,378</td>\n      <td>51,322</td>\n      <td>50,591</td>\n      <td>52,815</td>\n      <td>55,607</td>\n      <td>57,112</td>\n      <td>60,734</td>\n      <td>61,911</td>\n      <td>66,464</td>\n      <td>69,973</td>\n      <td>72,411</td>\n    </tr>\n    <tr>\n      <th>5</th>\n      <td>Some other race</td>\n      <td>38,230</td>\n      <td>37,172</td>\n      <td>38,439</td>\n      <td>39,346</td>\n      <td>40,865</td>\n      <td>42,461</td>\n      <td>44,798</td>\n      <td>47,219</td>\n      <td>48,983</td>\n      <td>53,097</td>\n      <td>57,671</td>\n      <td>63,290</td>\n    </tr>\n  </tbody>\n</table>\n</div>"
     },
     "execution_count": 97,
     "metadata": {},
     "output_type": "execute_result"
    }
   ],
   "source": [
    "output"
   ],
   "metadata": {
    "collapsed": false,
    "ExecuteTime": {
     "end_time": "2023-11-19T20:18:13.977746468Z",
     "start_time": "2023-11-19T20:18:13.974021984Z"
    }
   },
   "id": "de5c724fc162f200"
  },
  {
   "cell_type": "code",
   "execution_count": 98,
   "outputs": [
    {
     "data": {
      "text/plain": "                                 Label (Grouping)    2010    2011    2012  \\\n0                                           White  52,480  53,444  54,729   \n1                       Black or African American  33,578  33,223  33,764   \n2               American Indian and Alaska Native  35,062  35,192  35,310   \n3                                           Asian  67,022  67,885  70,644   \n4      Native Hawaiian and Other Pacific Islander  52,776  49,378  51,322   \n5                                 Some other race  38,230  37,172  38,439   \n\n     2013    2014    2015    2016    2017    2018    2019     2021     2022  \n0  55,867  57,355  59,698  61,349  63,704  65,902  69,823   74,932   79,933  \n1  34,815  35,481  36,544  38,555  40,232  41,511  43,862   46,774   51,374  \n2  36,641  37,227  38,530  39,719  41,882  44,772  45,476   53,149   58,082  \n3  72,472  74,105  77,368  80,720  83,456  87,243  93,759  100,572  106,954  \n4  50,591  52,815  55,607  57,112  60,734  61,911  66,464   69,973   72,411  \n5  39,346  40,865  42,461  44,798  47,219  48,983  53,097   57,671   63,290  ",
      "text/html": "<div>\n<style scoped>\n    .dataframe tbody tr th:only-of-type {\n        vertical-align: middle;\n    }\n\n    .dataframe tbody tr th {\n        vertical-align: top;\n    }\n\n    .dataframe thead th {\n        text-align: right;\n    }\n</style>\n<table border=\"1\" class=\"dataframe\">\n  <thead>\n    <tr style=\"text-align: right;\">\n      <th></th>\n      <th>Label (Grouping)</th>\n      <th>2010</th>\n      <th>2011</th>\n      <th>2012</th>\n      <th>2013</th>\n      <th>2014</th>\n      <th>2015</th>\n      <th>2016</th>\n      <th>2017</th>\n      <th>2018</th>\n      <th>2019</th>\n      <th>2021</th>\n      <th>2022</th>\n    </tr>\n  </thead>\n  <tbody>\n    <tr>\n      <th>0</th>\n      <td>White</td>\n      <td>52,480</td>\n      <td>53,444</td>\n      <td>54,729</td>\n      <td>55,867</td>\n      <td>57,355</td>\n      <td>59,698</td>\n      <td>61,349</td>\n      <td>63,704</td>\n      <td>65,902</td>\n      <td>69,823</td>\n      <td>74,932</td>\n      <td>79,933</td>\n    </tr>\n    <tr>\n      <th>1</th>\n      <td>Black or African American</td>\n      <td>33,578</td>\n      <td>33,223</td>\n      <td>33,764</td>\n      <td>34,815</td>\n      <td>35,481</td>\n      <td>36,544</td>\n      <td>38,555</td>\n      <td>40,232</td>\n      <td>41,511</td>\n      <td>43,862</td>\n      <td>46,774</td>\n      <td>51,374</td>\n    </tr>\n    <tr>\n      <th>2</th>\n      <td>American Indian and Alaska Native</td>\n      <td>35,062</td>\n      <td>35,192</td>\n      <td>35,310</td>\n      <td>36,641</td>\n      <td>37,227</td>\n      <td>38,530</td>\n      <td>39,719</td>\n      <td>41,882</td>\n      <td>44,772</td>\n      <td>45,476</td>\n      <td>53,149</td>\n      <td>58,082</td>\n    </tr>\n    <tr>\n      <th>3</th>\n      <td>Asian</td>\n      <td>67,022</td>\n      <td>67,885</td>\n      <td>70,644</td>\n      <td>72,472</td>\n      <td>74,105</td>\n      <td>77,368</td>\n      <td>80,720</td>\n      <td>83,456</td>\n      <td>87,243</td>\n      <td>93,759</td>\n      <td>100,572</td>\n      <td>106,954</td>\n    </tr>\n    <tr>\n      <th>4</th>\n      <td>Native Hawaiian and Other Pacific Islander</td>\n      <td>52,776</td>\n      <td>49,378</td>\n      <td>51,322</td>\n      <td>50,591</td>\n      <td>52,815</td>\n      <td>55,607</td>\n      <td>57,112</td>\n      <td>60,734</td>\n      <td>61,911</td>\n      <td>66,464</td>\n      <td>69,973</td>\n      <td>72,411</td>\n    </tr>\n    <tr>\n      <th>5</th>\n      <td>Some other race</td>\n      <td>38,230</td>\n      <td>37,172</td>\n      <td>38,439</td>\n      <td>39,346</td>\n      <td>40,865</td>\n      <td>42,461</td>\n      <td>44,798</td>\n      <td>47,219</td>\n      <td>48,983</td>\n      <td>53,097</td>\n      <td>57,671</td>\n      <td>63,290</td>\n    </tr>\n  </tbody>\n</table>\n</div>"
     },
     "execution_count": 98,
     "metadata": {},
     "output_type": "execute_result"
    }
   ],
   "source": [
    "output"
   ],
   "metadata": {
    "collapsed": false,
    "ExecuteTime": {
     "end_time": "2023-11-19T20:18:22.668160624Z",
     "start_time": "2023-11-19T20:18:22.660403479Z"
    }
   },
   "id": "e31e3470c3ad7674"
  },
  {
   "cell_type": "code",
   "execution_count": 99,
   "outputs": [],
   "source": [
    "output.to_csv('median_income_over_years.csv', index=False)"
   ],
   "metadata": {
    "collapsed": false,
    "ExecuteTime": {
     "end_time": "2023-11-19T20:18:26.312089760Z",
     "start_time": "2023-11-19T20:18:26.302904202Z"
    }
   },
   "id": "126ed04bd9d60b6d"
  },
  {
   "cell_type": "code",
   "execution_count": 99,
   "outputs": [],
   "source": [],
   "metadata": {
    "collapsed": false,
    "ExecuteTime": {
     "end_time": "2023-11-19T20:32:53.711984616Z",
     "start_time": "2023-11-19T20:32:53.668070706Z"
    }
   },
   "id": "55b04ee73286d0ab"
  },
  {
   "cell_type": "code",
   "execution_count": 2,
   "outputs": [],
   "source": [
    "def get_population(filename: str, df: pd.DataFrame):\n",
    "    col = df.iloc[66:72][['Label (Grouping)', 'United States!!Estimate']].reset_index(drop=True)\n",
    "    col.rename(columns={'United States!!Estimate': int(filename[7:11])}, inplace=True)\n",
    "    return col"
   ],
   "metadata": {
    "collapsed": false,
    "ExecuteTime": {
     "end_time": "2023-11-19T20:41:00.657468747Z",
     "start_time": "2023-11-19T20:41:00.650658510Z"
    }
   },
   "id": "810bddc0aed145cc"
  },
  {
   "cell_type": "code",
   "execution_count": 3,
   "outputs": [],
   "source": [
    "def load_population_files(path: str):\n",
    "    df_list = []\n",
    "    files = os.listdir(path)\n",
    "    for file in files:\n",
    "        if file.endswith('.csv'):\n",
    "            file_path = os.path.join(path, file)\n",
    "            df = pd.read_csv(file_path, index_col=None)\n",
    "            reduced = get_population(file, df)\n",
    "            if not df_list:\n",
    "                df_list.append(reduced)\n",
    "            else:\n",
    "                df_list.append(reduced.drop('Label (Grouping)', axis=1))\n",
    "    \n",
    "    return df_list"
   ],
   "metadata": {
    "collapsed": false,
    "ExecuteTime": {
     "end_time": "2023-11-19T20:41:01.925942845Z",
     "start_time": "2023-11-19T20:41:01.918394126Z"
    }
   },
   "id": "b8bc46cefe4af195"
  },
  {
   "cell_type": "code",
   "execution_count": 4,
   "outputs": [],
   "source": [
    "pop = load_population_files('./DP05_2010-2022')"
   ],
   "metadata": {
    "collapsed": false,
    "ExecuteTime": {
     "end_time": "2023-11-19T20:41:04.036403055Z",
     "start_time": "2023-11-19T20:41:04.014138231Z"
    }
   },
   "id": "56a8db8e20a715e5"
  },
  {
   "cell_type": "code",
   "execution_count": 5,
   "outputs": [
    {
     "data": {
      "text/plain": "          2016\n0   18,049,903\n1          NaN\n2  323,127,515\n3   57,398,719\n4   36,255,589\n5    5,450,472",
      "text/html": "<div>\n<style scoped>\n    .dataframe tbody tr th:only-of-type {\n        vertical-align: middle;\n    }\n\n    .dataframe tbody tr th {\n        vertical-align: top;\n    }\n\n    .dataframe thead th {\n        text-align: right;\n    }\n</style>\n<table border=\"1\" class=\"dataframe\">\n  <thead>\n    <tr style=\"text-align: right;\">\n      <th></th>\n      <th>2016</th>\n    </tr>\n  </thead>\n  <tbody>\n    <tr>\n      <th>0</th>\n      <td>18,049,903</td>\n    </tr>\n    <tr>\n      <th>1</th>\n      <td>NaN</td>\n    </tr>\n    <tr>\n      <th>2</th>\n      <td>323,127,515</td>\n    </tr>\n    <tr>\n      <th>3</th>\n      <td>57,398,719</td>\n    </tr>\n    <tr>\n      <th>4</th>\n      <td>36,255,589</td>\n    </tr>\n    <tr>\n      <th>5</th>\n      <td>5,450,472</td>\n    </tr>\n  </tbody>\n</table>\n</div>"
     },
     "execution_count": 5,
     "metadata": {},
     "output_type": "execute_result"
    }
   ],
   "source": [
    "pop[1]"
   ],
   "metadata": {
    "collapsed": false,
    "ExecuteTime": {
     "end_time": "2023-11-19T20:41:06.352695635Z",
     "start_time": "2023-11-19T20:41:06.345921264Z"
    }
   },
   "id": "5d2cc7b77a5f7e61"
  },
  {
   "cell_type": "code",
   "execution_count": 6,
   "outputs": [],
   "source": [
    "pop_output = pd.concat(pop, axis=1)"
   ],
   "metadata": {
    "collapsed": false,
    "ExecuteTime": {
     "end_time": "2023-11-19T20:41:11.783471156Z",
     "start_time": "2023-11-19T20:41:11.776711623Z"
    }
   },
   "id": "e5d9d985c76b3445"
  },
  {
   "cell_type": "code",
   "execution_count": 7,
   "outputs": [
    {
     "data": {
      "text/plain": "                                    Label (Grouping)         2019  \\\n0                                              White  246,234,076   \n1                          Black or African American   46,713,850   \n2                  American Indian and Alaska Native    5,665,200   \n3                                              Asian   22,371,683   \n4          Native Hawaiian and Other Pacific Isla...    1,438,818   \n5                                    Some other race   18,214,244   \n\n          2016         2021         2011         2015         2017  \\\n0   18,049,903  241,836,150   16,396,503   17,051,509  244,691,364   \n1          NaN   47,234,227          NaN          NaN   45,789,188   \n2  323,127,515    8,750,904  311,591,919  321,418,821    5,631,945   \n3   57,398,719   23,545,238   51,939,916   56,496,122   21,646,070   \n4   36,255,589    1,541,118   33,557,922   35,797,080    1,407,096   \n5    5,450,472   53,868,002    4,885,294    5,372,759   18,346,638   \n\n          2013         2014         2010         2018         2022  \\\n0   16,474,381   16,703,187   16,534,492  245,860,228          NaN   \n1          NaN          NaN          NaN   46,261,485  333,287,562   \n2  316,128,839  318,857,056  309,349,689    5,710,410  241,650,046   \n3   53,986,412   55,279,452   50,740,089   22,137,269   47,859,760   \n4   34,586,088   35,320,579   32,929,683    1,468,239    8,551,272   \n5    5,138,109    5,266,738    4,691,890   18,146,776   24,207,047   \n\n          2012  \n0   16,232,503  \n1          NaN  \n2  313,914,040  \n3   52,961,017  \n4   34,038,599  \n5    4,970,604  ",
      "text/html": "<div>\n<style scoped>\n    .dataframe tbody tr th:only-of-type {\n        vertical-align: middle;\n    }\n\n    .dataframe tbody tr th {\n        vertical-align: top;\n    }\n\n    .dataframe thead th {\n        text-align: right;\n    }\n</style>\n<table border=\"1\" class=\"dataframe\">\n  <thead>\n    <tr style=\"text-align: right;\">\n      <th></th>\n      <th>Label (Grouping)</th>\n      <th>2019</th>\n      <th>2016</th>\n      <th>2021</th>\n      <th>2011</th>\n      <th>2015</th>\n      <th>2017</th>\n      <th>2013</th>\n      <th>2014</th>\n      <th>2010</th>\n      <th>2018</th>\n      <th>2022</th>\n      <th>2012</th>\n    </tr>\n  </thead>\n  <tbody>\n    <tr>\n      <th>0</th>\n      <td>White</td>\n      <td>246,234,076</td>\n      <td>18,049,903</td>\n      <td>241,836,150</td>\n      <td>16,396,503</td>\n      <td>17,051,509</td>\n      <td>244,691,364</td>\n      <td>16,474,381</td>\n      <td>16,703,187</td>\n      <td>16,534,492</td>\n      <td>245,860,228</td>\n      <td>NaN</td>\n      <td>16,232,503</td>\n    </tr>\n    <tr>\n      <th>1</th>\n      <td>Black or African American</td>\n      <td>46,713,850</td>\n      <td>NaN</td>\n      <td>47,234,227</td>\n      <td>NaN</td>\n      <td>NaN</td>\n      <td>45,789,188</td>\n      <td>NaN</td>\n      <td>NaN</td>\n      <td>NaN</td>\n      <td>46,261,485</td>\n      <td>333,287,562</td>\n      <td>NaN</td>\n    </tr>\n    <tr>\n      <th>2</th>\n      <td>American Indian and Alaska Native</td>\n      <td>5,665,200</td>\n      <td>323,127,515</td>\n      <td>8,750,904</td>\n      <td>311,591,919</td>\n      <td>321,418,821</td>\n      <td>5,631,945</td>\n      <td>316,128,839</td>\n      <td>318,857,056</td>\n      <td>309,349,689</td>\n      <td>5,710,410</td>\n      <td>241,650,046</td>\n      <td>313,914,040</td>\n    </tr>\n    <tr>\n      <th>3</th>\n      <td>Asian</td>\n      <td>22,371,683</td>\n      <td>57,398,719</td>\n      <td>23,545,238</td>\n      <td>51,939,916</td>\n      <td>56,496,122</td>\n      <td>21,646,070</td>\n      <td>53,986,412</td>\n      <td>55,279,452</td>\n      <td>50,740,089</td>\n      <td>22,137,269</td>\n      <td>47,859,760</td>\n      <td>52,961,017</td>\n    </tr>\n    <tr>\n      <th>4</th>\n      <td>Native Hawaiian and Other Pacific Isla...</td>\n      <td>1,438,818</td>\n      <td>36,255,589</td>\n      <td>1,541,118</td>\n      <td>33,557,922</td>\n      <td>35,797,080</td>\n      <td>1,407,096</td>\n      <td>34,586,088</td>\n      <td>35,320,579</td>\n      <td>32,929,683</td>\n      <td>1,468,239</td>\n      <td>8,551,272</td>\n      <td>34,038,599</td>\n    </tr>\n    <tr>\n      <th>5</th>\n      <td>Some other race</td>\n      <td>18,214,244</td>\n      <td>5,450,472</td>\n      <td>53,868,002</td>\n      <td>4,885,294</td>\n      <td>5,372,759</td>\n      <td>18,346,638</td>\n      <td>5,138,109</td>\n      <td>5,266,738</td>\n      <td>4,691,890</td>\n      <td>18,146,776</td>\n      <td>24,207,047</td>\n      <td>4,970,604</td>\n    </tr>\n  </tbody>\n</table>\n</div>"
     },
     "execution_count": 7,
     "metadata": {},
     "output_type": "execute_result"
    }
   ],
   "source": [
    "pop_output"
   ],
   "metadata": {
    "collapsed": false,
    "ExecuteTime": {
     "end_time": "2023-11-19T20:41:12.844755020Z",
     "start_time": "2023-11-19T20:41:12.841251347Z"
    }
   },
   "id": "bb7cd04ba9b2bd5a"
  },
  {
   "cell_type": "code",
   "execution_count": 8,
   "outputs": [],
   "source": [
    "pop_output = pd.concat([pop_output.iloc[:,0], pop_output[sorted(pop_output.iloc[:, 1:].columns, key=int)]], axis=1)"
   ],
   "metadata": {
    "collapsed": false,
    "ExecuteTime": {
     "end_time": "2023-11-19T20:41:14.595287172Z",
     "start_time": "2023-11-19T20:41:14.589178046Z"
    }
   },
   "id": "61348892b3a3506d"
  },
  {
   "cell_type": "code",
   "execution_count": 9,
   "outputs": [
    {
     "data": {
      "text/plain": "                                    Label (Grouping)         2010  \\\n0                                              White   16,534,492   \n1                          Black or African American          NaN   \n2                  American Indian and Alaska Native  309,349,689   \n3                                              Asian   50,740,089   \n4          Native Hawaiian and Other Pacific Isla...   32,929,683   \n5                                    Some other race    4,691,890   \n\n          2011         2012         2013         2014         2015  \\\n0   16,396,503   16,232,503   16,474,381   16,703,187   17,051,509   \n1          NaN          NaN          NaN          NaN          NaN   \n2  311,591,919  313,914,040  316,128,839  318,857,056  321,418,821   \n3   51,939,916   52,961,017   53,986,412   55,279,452   56,496,122   \n4   33,557,922   34,038,599   34,586,088   35,320,579   35,797,080   \n5    4,885,294    4,970,604    5,138,109    5,266,738    5,372,759   \n\n          2016         2017         2018         2019         2021  \\\n0   18,049,903  244,691,364  245,860,228  246,234,076  241,836,150   \n1          NaN   45,789,188   46,261,485   46,713,850   47,234,227   \n2  323,127,515    5,631,945    5,710,410    5,665,200    8,750,904   \n3   57,398,719   21,646,070   22,137,269   22,371,683   23,545,238   \n4   36,255,589    1,407,096    1,468,239    1,438,818    1,541,118   \n5    5,450,472   18,346,638   18,146,776   18,214,244   53,868,002   \n\n          2022  \n0          NaN  \n1  333,287,562  \n2  241,650,046  \n3   47,859,760  \n4    8,551,272  \n5   24,207,047  ",
      "text/html": "<div>\n<style scoped>\n    .dataframe tbody tr th:only-of-type {\n        vertical-align: middle;\n    }\n\n    .dataframe tbody tr th {\n        vertical-align: top;\n    }\n\n    .dataframe thead th {\n        text-align: right;\n    }\n</style>\n<table border=\"1\" class=\"dataframe\">\n  <thead>\n    <tr style=\"text-align: right;\">\n      <th></th>\n      <th>Label (Grouping)</th>\n      <th>2010</th>\n      <th>2011</th>\n      <th>2012</th>\n      <th>2013</th>\n      <th>2014</th>\n      <th>2015</th>\n      <th>2016</th>\n      <th>2017</th>\n      <th>2018</th>\n      <th>2019</th>\n      <th>2021</th>\n      <th>2022</th>\n    </tr>\n  </thead>\n  <tbody>\n    <tr>\n      <th>0</th>\n      <td>White</td>\n      <td>16,534,492</td>\n      <td>16,396,503</td>\n      <td>16,232,503</td>\n      <td>16,474,381</td>\n      <td>16,703,187</td>\n      <td>17,051,509</td>\n      <td>18,049,903</td>\n      <td>244,691,364</td>\n      <td>245,860,228</td>\n      <td>246,234,076</td>\n      <td>241,836,150</td>\n      <td>NaN</td>\n    </tr>\n    <tr>\n      <th>1</th>\n      <td>Black or African American</td>\n      <td>NaN</td>\n      <td>NaN</td>\n      <td>NaN</td>\n      <td>NaN</td>\n      <td>NaN</td>\n      <td>NaN</td>\n      <td>NaN</td>\n      <td>45,789,188</td>\n      <td>46,261,485</td>\n      <td>46,713,850</td>\n      <td>47,234,227</td>\n      <td>333,287,562</td>\n    </tr>\n    <tr>\n      <th>2</th>\n      <td>American Indian and Alaska Native</td>\n      <td>309,349,689</td>\n      <td>311,591,919</td>\n      <td>313,914,040</td>\n      <td>316,128,839</td>\n      <td>318,857,056</td>\n      <td>321,418,821</td>\n      <td>323,127,515</td>\n      <td>5,631,945</td>\n      <td>5,710,410</td>\n      <td>5,665,200</td>\n      <td>8,750,904</td>\n      <td>241,650,046</td>\n    </tr>\n    <tr>\n      <th>3</th>\n      <td>Asian</td>\n      <td>50,740,089</td>\n      <td>51,939,916</td>\n      <td>52,961,017</td>\n      <td>53,986,412</td>\n      <td>55,279,452</td>\n      <td>56,496,122</td>\n      <td>57,398,719</td>\n      <td>21,646,070</td>\n      <td>22,137,269</td>\n      <td>22,371,683</td>\n      <td>23,545,238</td>\n      <td>47,859,760</td>\n    </tr>\n    <tr>\n      <th>4</th>\n      <td>Native Hawaiian and Other Pacific Isla...</td>\n      <td>32,929,683</td>\n      <td>33,557,922</td>\n      <td>34,038,599</td>\n      <td>34,586,088</td>\n      <td>35,320,579</td>\n      <td>35,797,080</td>\n      <td>36,255,589</td>\n      <td>1,407,096</td>\n      <td>1,468,239</td>\n      <td>1,438,818</td>\n      <td>1,541,118</td>\n      <td>8,551,272</td>\n    </tr>\n    <tr>\n      <th>5</th>\n      <td>Some other race</td>\n      <td>4,691,890</td>\n      <td>4,885,294</td>\n      <td>4,970,604</td>\n      <td>5,138,109</td>\n      <td>5,266,738</td>\n      <td>5,372,759</td>\n      <td>5,450,472</td>\n      <td>18,346,638</td>\n      <td>18,146,776</td>\n      <td>18,214,244</td>\n      <td>53,868,002</td>\n      <td>24,207,047</td>\n    </tr>\n  </tbody>\n</table>\n</div>"
     },
     "execution_count": 9,
     "metadata": {},
     "output_type": "execute_result"
    }
   ],
   "source": [
    "pop_output"
   ],
   "metadata": {
    "collapsed": false,
    "ExecuteTime": {
     "end_time": "2023-11-19T20:41:16.026630682Z",
     "start_time": "2023-11-19T20:41:16.023725519Z"
    }
   },
   "id": "918c99a8dedc6d2f"
  },
  {
   "cell_type": "code",
   "execution_count": 10,
   "outputs": [],
   "source": [
    "pop_output.to_csv('population_races_over_years.csv', index=False)"
   ],
   "metadata": {
    "collapsed": false,
    "ExecuteTime": {
     "end_time": "2023-11-19T20:45:16.352337880Z",
     "start_time": "2023-11-19T20:45:16.309304949Z"
    }
   },
   "id": "cafcc8dd90c38dff"
  },
  {
   "cell_type": "code",
   "execution_count": null,
   "outputs": [],
   "source": [],
   "metadata": {
    "collapsed": false
   },
   "id": "efe3d4cde1832b35"
  }
 ],
 "metadata": {
  "kernelspec": {
   "display_name": "Python 3",
   "language": "python",
   "name": "python3"
  },
  "language_info": {
   "codemirror_mode": {
    "name": "ipython",
    "version": 2
   },
   "file_extension": ".py",
   "mimetype": "text/x-python",
   "name": "python",
   "nbconvert_exporter": "python",
   "pygments_lexer": "ipython2",
   "version": "2.7.6"
  }
 },
 "nbformat": 4,
 "nbformat_minor": 5
}
